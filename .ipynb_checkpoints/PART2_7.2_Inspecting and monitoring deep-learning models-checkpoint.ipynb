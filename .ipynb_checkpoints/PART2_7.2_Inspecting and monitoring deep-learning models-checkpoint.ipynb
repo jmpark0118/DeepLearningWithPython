{
 "cells": [
  {
   "cell_type": "markdown",
   "metadata": {
    "colab_type": "text",
    "id": "IiRgZkXXb2KY"
   },
   "source": [
    "# Chapter7: Advanced deep-learning best practices"
   ]
  },
  {
   "cell_type": "markdown",
   "metadata": {
    "colab_type": "text",
    "id": "O2h9qKP7b2Kc"
   },
   "source": [
    "## 7.2 Inspecting and monitoring deep-learning models using Keras callbacks and TensorBoard"
   ]
  },
  {
   "cell_type": "markdown",
   "metadata": {
    "colab_type": "text",
    "id": "CvxV-DMmb2Ke"
   },
   "source": [
    "In this section, we'll review ways to gain greater access to and control over what goes on inside your model during training. The techniques we present here will transform the call `model.fit()` from a paper airplane to a smart, autonomous drone that can self-introspect and dynamically take action."
   ]
  },
  {
   "cell_type": "markdown",
   "metadata": {
    "colab_type": "text",
    "id": "McCDKQbrb2Kg"
   },
   "source": [
    "### 7.2.1 Using callbacks to act on a model during training"
   ]
  },
  {
   "cell_type": "markdown",
   "metadata": {
    "colab_type": "text",
    "id": "GKTGLeskb2Kh"
   },
   "source": [
    "When you're training a model, there are many things you can't predict from the start. In particular, you can't tell how many epochs will be needed to get to an optimal validation loss. Of course, the strategy of training for enough epochs until you begin overfitting is wasteful.\n",
    "\n",
    "A much better way to handle this is to stop training when the validation loss is no longer improving. This can be achieved using a Keras callback.\n",
    "\n",
    "A *callback* is an object that is passed to the model in the call and called by the model at various points during training. It has access to all the available data about the state of the model and its performance, and it can take action: interrupt training, save a model, load a different weight set, or otherwise alter the state of the model.\n",
    "\n",
    "Here are some examples of ways you can use callbacks:\n",
    "  + *Model checkpointing*\n",
    "    - Saving the current weights of the model at different points during training\n",
    "  + *Early stopping*\n",
    "    - Interrupting training when the validation loss is no longer improving\n",
    "  + *Dynamically adjusting the value of certain parameters during training*\n",
    "    - Such as the learning rate of the optimizer\n",
    "  + *Logging training and validation metrics during training, or visualizing the representations learned by the model as they're updated*\n",
    "    - The Keras progress bar that you're familiar with is a callback"
   ]
  },
  {
   "cell_type": "markdown",
   "metadata": {
    "colab_type": "text",
    "id": "NbI98lBTb2Kj"
   },
   "source": [
    "#### THE MODEL CHECKPOINT AND EARLYSTOPPING CALLBACKS"
   ]
  },
  {
   "cell_type": "markdown",
   "metadata": {
    "colab_type": "text",
    "id": "cavRzZ-lb2Kk"
   },
   "source": [
    "You can use the `EarlyStopping` callback to interrupt training once a target metric being monitored has stopped improving for a fixed number of epochs."
   ]
  },
  {
   "cell_type": "code",
   "execution_count": 0,
   "metadata": {
    "colab": {},
    "colab_type": "code",
    "id": "gWmFmW7Gb2Kw"
   },
   "outputs": [],
   "source": [
    "import keras\n",
    "\n",
    "# Callbacks are passed to the model via the callbacks argument in fit, \n",
    "# which takes a list of callbacks.\n",
    "# You can pass any number of callbacks.\n",
    "callbacks_list = [\n",
    "     # Interrupts training when improvement stops\n",
    "     keras.callbacks.EarlyStopping(\n",
    "          # Monitors the model's validation accuracy\n",
    "          monitor='acc',\n",
    "          # Interrupts training when accuracy has stopped improving\n",
    "          # for more than one epoch\n",
    "          patience=1),\n",
    "     # Saves the current weights after every epoch\n",
    "     keras.callbacks.ModelCheckpoint(\n",
    "          # Path to the destination model file\n",
    "          filepath='my_model.h5',\n",
    "          monitor='val_loss',\n",
    "          # Does not overwrite the model file unless val_loss has improved,\n",
    "          # which allows you to keep the best model seen during training.\n",
    "          save_best_only=True)\n",
    "]\n",
    "\n",
    "model.compile(optimizer='rmsprop',\n",
    "              loss='binary_crossentropy',\n",
    "              metrics=['acc'])\n",
    "\n",
    "model.fit(x, y,\n",
    "          epochs-10,\n",
    "          batch_size=32,\n",
    "          callbacks=callbacks_list,\n",
    "          validation_data=(x_val, y_val))"
   ]
  },
  {
   "cell_type": "markdown",
   "metadata": {
    "colab_type": "text",
    "id": "7dFGF-UMb2La"
   },
   "source": [
    "##### Train a CNN model using the Functional API and the MNIST data with `EarlyStopping` and `ModelCheckpoint` callbacks"
   ]
  },
  {
   "cell_type": "code",
   "execution_count": 31,
   "metadata": {
    "colab": {
     "base_uri": "https://localhost:8080/",
     "height": 68
    },
    "colab_type": "code",
    "id": "iYD6F__Tb2Lb",
    "outputId": "af10914a-46d9-4ea9-f823-9c1643412d52"
   },
   "outputs": [
    {
     "name": "stdout",
     "output_type": "stream",
     "text": [
      "x_train shape: (60000, 28, 28, 1)\n",
      "60000 train samples\n",
      "10000 test samples\n"
     ]
    }
   ],
   "source": [
    "from __future__ import print_function\n",
    "import keras\n",
    "from keras.datasets import mnist\n",
    "from keras.models import Sequential\n",
    "from keras import layers\n",
    "from keras.layers import Dense, Dropout, Flatten\n",
    "from keras.layers import Conv2D, MaxPooling2D\n",
    "#from keras import backend as K\n",
    "\n",
    "batch_size = 128\n",
    "epochs = 12\n",
    "\n",
    "# the data, split between train and test sets\n",
    "(x_train, y_train), (x_test, y_test) = mnist.load_data()\n",
    "\n",
    "x_train = x_train.reshape(x_train.shape[0], 28, 28, 1)\n",
    "x_test = x_test.reshape(x_test.shape[0], 28, 28, 1)\n",
    "input_shape = (28, 28, 1)\n",
    "\n",
    "x_train = x_train.astype('float32')\n",
    "x_test = x_test.astype('float32')\n",
    "x_train /= 255\n",
    "x_test /= 255\n",
    "print('x_train shape:', x_train.shape)\n",
    "print(x_train.shape[0], 'train samples')\n",
    "print(x_test.shape[0], 'test samples')\n",
    "\n",
    "# convert class vectors to binary class matrices\n",
    "y_train = keras.utils.to_categorical(y_train, 10)\n",
    "y_test = keras.utils.to_categorical(y_test, 10)"
   ]
  },
  {
   "cell_type": "code",
   "execution_count": 32,
   "metadata": {
    "colab": {
     "base_uri": "https://localhost:8080/",
     "height": 422
    },
    "colab_type": "code",
    "id": "GUsrrK7fb2Lw",
    "outputId": "940e4cf4-ef91-40bd-f4fd-69e010a8aad2"
   },
   "outputs": [
    {
     "name": "stdout",
     "output_type": "stream",
     "text": [
      "Model: \"sequential_9\"\n",
      "_________________________________________________________________\n",
      "Layer (type)                 Output Shape              Param #   \n",
      "=================================================================\n",
      "conv2d_17 (Conv2D)           (None, 26, 26, 32)        320       \n",
      "_________________________________________________________________\n",
      "max_pooling2d_17 (MaxPooling (None, 13, 13, 32)        0         \n",
      "_________________________________________________________________\n",
      "conv2d_18 (Conv2D)           (None, 11, 11, 64)        18496     \n",
      "_________________________________________________________________\n",
      "max_pooling2d_18 (MaxPooling (None, 5, 5, 64)          0         \n",
      "_________________________________________________________________\n",
      "flatten_9 (Flatten)          (None, 1600)              0         \n",
      "_________________________________________________________________\n",
      "dense_17 (Dense)             (None, 512)               819712    \n",
      "_________________________________________________________________\n",
      "dropout_9 (Dropout)          (None, 512)               0         \n",
      "_________________________________________________________________\n",
      "dense_18 (Dense)             (None, 10)                5130      \n",
      "=================================================================\n",
      "Total params: 843,658\n",
      "Trainable params: 843,658\n",
      "Non-trainable params: 0\n",
      "_________________________________________________________________\n"
     ]
    }
   ],
   "source": [
    "from keras import optimizers\n",
    "\n",
    "model = Sequential()\n",
    "model.add(layers.Conv2D(32, (3,3), activation='relu', input_shape=(28,28,1)))\n",
    "model.add(layers.MaxPooling2D())\n",
    "model.add(layers.Conv2D(64, (3,3), activation='relu'))\n",
    "model.add(layers.MaxPooling2D())\n",
    "model.add(layers.Flatten())\n",
    "model.add(layers.Dense(512, activation='relu'))\n",
    "model.add(layers.Dropout(0.5))\n",
    "model.add(layers.Dense(10, activation='softmax'))\n",
    "\n",
    "model.compile(optimizer=optimizers.Adadelta(),\n",
    "              loss='categorical_crossentropy',\n",
    "              metrics=['acc'])\n",
    "\n",
    "model.summary()"
   ]
  },
  {
   "cell_type": "code",
   "execution_count": 33,
   "metadata": {
    "colab": {
     "base_uri": "https://localhost:8080/",
     "height": 51
    },
    "colab_type": "code",
    "id": "B8gNYc0Rb2Mf",
    "outputId": "b551e9a9-9130-4719-d04b-55054069aef4"
   },
   "outputs": [
    {
     "data": {
      "text/plain": [
       "[<keras.callbacks.callbacks.EarlyStopping at 0x7fe6363dda20>,\n",
       " <keras.callbacks.callbacks.ModelCheckpoint at 0x7fe6363ddba8>]"
      ]
     },
     "execution_count": 33,
     "metadata": {
      "tags": []
     },
     "output_type": "execute_result"
    }
   ],
   "source": [
    "callbacks_list = [\n",
    "     keras.callbacks.EarlyStopping(\n",
    "          monitor='val_acc',\n",
    "          patience=1),\n",
    "     keras.callbacks.ModelCheckpoint(\n",
    "          filepath='my_model_callback.h5',\n",
    "          monitor='val_loss',\n",
    "          save_best_only=True)\n",
    "]\n",
    "\n",
    "callbacks_list"
   ]
  },
  {
   "cell_type": "code",
   "execution_count": 34,
   "metadata": {
    "colab": {
     "base_uri": "https://localhost:8080/",
     "height": 236
    },
    "colab_type": "code",
    "id": "zMxUX8Bsb2M4",
    "outputId": "9d497296-a78d-4263-9b8c-c0cc735f97fe"
   },
   "outputs": [
    {
     "name": "stdout",
     "output_type": "stream",
     "text": [
      "Train on 48000 samples, validate on 12000 samples\n",
      "Epoch 1/12\n",
      " - 3s - loss: 0.2763 - acc: 0.9136 - val_loss: 0.0810 - val_acc: 0.9779\n",
      "Epoch 2/12\n",
      " - 3s - loss: 0.0748 - acc: 0.9769 - val_loss: 0.0587 - val_acc: 0.9831\n",
      "Epoch 3/12\n",
      " - 3s - loss: 0.0525 - acc: 0.9835 - val_loss: 0.0429 - val_acc: 0.9869\n",
      "Epoch 4/12\n",
      " - 3s - loss: 0.0413 - acc: 0.9873 - val_loss: 0.0393 - val_acc: 0.9884\n",
      "Epoch 5/12\n",
      " - 3s - loss: 0.0343 - acc: 0.9894 - val_loss: 0.0350 - val_acc: 0.9902\n",
      "Epoch 6/12\n",
      " - 3s - loss: 0.0295 - acc: 0.9909 - val_loss: 0.0327 - val_acc: 0.9902\n"
     ]
    }
   ],
   "source": [
    "history = model.fit(x_train, y_train,\n",
    "                    epochs=epochs,\n",
    "                    batch_size=batch_size,\n",
    "                    validation_split=0.2,\n",
    "                    callbacks=callbacks_list,\n",
    "                    verbose=2)"
   ]
  },
  {
   "cell_type": "code",
   "execution_count": 35,
   "metadata": {
    "colab": {
     "base_uri": "https://localhost:8080/",
     "height": 573
    },
    "colab_type": "code",
    "id": "c67H5WAnb2NW",
    "outputId": "22b98b05-d022-4cac-8e98-c94f04641a76"
   },
   "outputs": [
    {
     "data": {
      "image/png": "[encoded data removed]",
      "text/plain": [
       "<Figure size 432x288 with 1 Axes>"
      ]
     },
     "metadata": {
      "needs_background": "light",
      "tags": []
     },
     "output_type": "display_data"
    },
    {
     "data": {
      "image/png": "[encoded data removed]",
      "text/plain": [
       "<Figure size 432x288 with 1 Axes>"
      ]
     },
     "metadata": {
      "needs_background": "light",
      "tags": []
     },
     "output_type": "display_data"
    }
   ],
   "source": [
    "import matplotlib.pyplot as plt\n",
    "\n",
    "acc = history.history['acc']\n",
    "val_acc = history.history['val_acc']\n",
    "loss = history.history['loss']\n",
    "val_loss = history.history['val_loss']\n",
    "\n",
    "epochs = range(1, len(acc)+1)\n",
    "\n",
    "plt.plot(epochs, acc, 'r', label='Training acc')\n",
    "plt.plot(epochs, val_acc, 'b', label='Validation acc')\n",
    "plt.title('Training and validation accuracy')\n",
    "plt.legend()\n",
    "plt.xlabel('Epochs')\n",
    "plt.ylabel('Accuracy')\n",
    "plt.show()\n",
    "\n",
    "plt.figure()\n",
    "plt.plot(epochs, loss, 'r', label='Training loss')\n",
    "plt.plot(epochs, val_loss, 'b', label='Validation loss')\n",
    "plt.title('Training and validation loss')\n",
    "plt.legend()\n",
    "plt.xlabel('Epochs')\n",
    "plt.ylabel('Loss')\n",
    "plt.show()"
   ]
  },
  {
   "cell_type": "code",
   "execution_count": 36,
   "metadata": {
    "colab": {
     "base_uri": "https://localhost:8080/",
     "height": 51
    },
    "colab_type": "code",
    "id": "heFCkSyWeJT1",
    "outputId": "c90e7fba-47a9-4b9d-974c-11e9594973fc"
   },
   "outputs": [
    {
     "name": "stdout",
     "output_type": "stream",
     "text": [
      "Test loss: 0.024831039316653914\n",
      "Test accuracy: 0.9916999936103821\n"
     ]
    }
   ],
   "source": [
    "score = model.evaluate(x_test, y_test, verbose=0)\n",
    "print('Test loss:', score[0])\n",
    "print('Test accuracy:', score[1])"
   ]
  },
  {
   "cell_type": "markdown",
   "metadata": {
    "colab_type": "text",
    "id": "lqO4KGkEe-wF"
   },
   "source": [
    "#### THE REDUCELRONPLATEAU CALLBACK"
   ]
  },
  {
   "cell_type": "markdown",
   "metadata": {
    "colab_type": "text",
    "id": "7syhx6iUfQ1j"
   },
   "source": [
    "You can use this callback to reduce the learning rate when the validation loss has stopped improving."
   ]
  },
  {
   "cell_type": "code",
   "execution_count": 0,
   "metadata": {
    "colab": {},
    "colab_type": "code",
    "id": "UDyXv3ajegUj"
   },
   "outputs": [],
   "source": [
    "callbacks_list = [\n",
    "                  keras.callbacks.ReduceLROnPlateau(\n",
    "                      # Monitors the model's validation loss\n",
    "                      monitor='val_loss',\n",
    "                      # Divides the learning rate by 10 when triggered\n",
    "                      factor=0.1,\n",
    "                      # The callback is triggered after the validation loss has stopped\n",
    "                      # improving for 10 epochs\n",
    "                      patience=10\n",
    "                  )\n",
    "]\n",
    "\n",
    "model.fit(x, y,\n",
    "           epochs=10,\n",
    "           batch_size=batch_size,\n",
    "           callbacks=callbacks_list,\n",
    "           validation_data=(x_val, y_val                ))"
   ]
  },
  {
   "cell_type": "code",
   "execution_count": 43,
   "metadata": {
    "colab": {
     "base_uri": "https://localhost:8080/",
     "height": 422
    },
    "colab_type": "code",
    "id": "Rc8fKGKqjHsu",
    "outputId": "adac19bf-6d6d-4c8d-f552-3d08280f8baf"
   },
   "outputs": [
    {
     "name": "stdout",
     "output_type": "stream",
     "text": [
      "Model: \"sequential_11\"\n",
      "_________________________________________________________________\n",
      "Layer (type)                 Output Shape              Param #   \n",
      "=================================================================\n",
      "conv2d_21 (Conv2D)           (None, 26, 26, 32)        320       \n",
      "_________________________________________________________________\n",
      "max_pooling2d_21 (MaxPooling (None, 13, 13, 32)        0         \n",
      "_________________________________________________________________\n",
      "conv2d_22 (Conv2D)           (None, 11, 11, 64)        18496     \n",
      "_________________________________________________________________\n",
      "max_pooling2d_22 (MaxPooling (None, 5, 5, 64)          0         \n",
      "_________________________________________________________________\n",
      "flatten_11 (Flatten)         (None, 1600)              0         \n",
      "_________________________________________________________________\n",
      "dense_21 (Dense)             (None, 512)               819712    \n",
      "_________________________________________________________________\n",
      "dropout_11 (Dropout)         (None, 512)               0         \n",
      "_________________________________________________________________\n",
      "dense_22 (Dense)             (None, 10)                5130      \n",
      "=================================================================\n",
      "Total params: 843,658\n",
      "Trainable params: 843,658\n",
      "Non-trainable params: 0\n",
      "_________________________________________________________________\n"
     ]
    }
   ],
   "source": [
    "model = Sequential()\n",
    "model.add(layers.Conv2D(32, (3,3), activation='relu', input_shape=(28,28,1)))\n",
    "model.add(layers.MaxPooling2D())\n",
    "model.add(layers.Conv2D(64, (3,3), activation='relu'))\n",
    "model.add(layers.MaxPooling2D())\n",
    "model.add(layers.Flatten())\n",
    "model.add(layers.Dense(512, activation='relu'))\n",
    "model.add(layers.Dropout(0.5))\n",
    "model.add(layers.Dense(10, activation='softmax'))\n",
    "\n",
    "model.compile(optimizer=optimizers.Adadelta(),\n",
    "              loss='categorical_crossentropy',\n",
    "              metrics=['acc'])\n",
    "\n",
    "model.summary()"
   ]
  },
  {
   "cell_type": "markdown",
   "metadata": {
    "colab_type": "text",
    "id": "zo3igRqJgMXo"
   },
   "source": [
    "##### Train a CNN model using the Functional API and the MNIST data with ReduceLROnPlateau callback"
   ]
  },
  {
   "cell_type": "code",
   "execution_count": 44,
   "metadata": {
    "colab": {
     "base_uri": "https://localhost:8080/",
     "height": 422
    },
    "colab_type": "code",
    "id": "6VmCOstKhdll",
    "outputId": "ecc58162-ce29-4dc8-f805-0985b3935c92"
   },
   "outputs": [
    {
     "name": "stdout",
     "output_type": "stream",
     "text": [
      "Model: \"sequential_11\"\n",
      "_________________________________________________________________\n",
      "Layer (type)                 Output Shape              Param #   \n",
      "=================================================================\n",
      "conv2d_21 (Conv2D)           (None, 26, 26, 32)        320       \n",
      "_________________________________________________________________\n",
      "max_pooling2d_21 (MaxPooling (None, 13, 13, 32)        0         \n",
      "_________________________________________________________________\n",
      "conv2d_22 (Conv2D)           (None, 11, 11, 64)        18496     \n",
      "_________________________________________________________________\n",
      "max_pooling2d_22 (MaxPooling (None, 5, 5, 64)          0         \n",
      "_________________________________________________________________\n",
      "flatten_11 (Flatten)         (None, 1600)              0         \n",
      "_________________________________________________________________\n",
      "dense_21 (Dense)             (None, 512)               819712    \n",
      "_________________________________________________________________\n",
      "dropout_11 (Dropout)         (None, 512)               0         \n",
      "_________________________________________________________________\n",
      "dense_22 (Dense)             (None, 10)                5130      \n",
      "=================================================================\n",
      "Total params: 843,658\n",
      "Trainable params: 843,658\n",
      "Non-trainable params: 0\n",
      "_________________________________________________________________\n"
     ]
    }
   ],
   "source": [
    "model.summary()"
   ]
  },
  {
   "cell_type": "code",
   "execution_count": 45,
   "metadata": {
    "colab": {
     "base_uri": "https://localhost:8080/",
     "height": 34
    },
    "colab_type": "code",
    "id": "Lzwv44VkhkuI",
    "outputId": "7318f1ba-cde8-431f-d5f0-2e53c3fb03e1"
   },
   "outputs": [
    {
     "data": {
      "text/plain": [
       "[<keras.callbacks.callbacks.ReduceLROnPlateau at 0x7fe61faa0e80>]"
      ]
     },
     "execution_count": 45,
     "metadata": {
      "tags": []
     },
     "output_type": "execute_result"
    }
   ],
   "source": [
    "callbacks_list = [\n",
    "                  keras.callbacks.ReduceLROnPlateau(\n",
    "                      monitor='val_loss',\n",
    "                      factor=0.1,\n",
    "                      patience=1\n",
    "                  )\n",
    "]\n",
    "\n",
    "callbacks_list"
   ]
  },
  {
   "cell_type": "code",
   "execution_count": 46,
   "metadata": {
    "colab": {
     "base_uri": "https://localhost:8080/",
     "height": 540
    },
    "colab_type": "code",
    "id": "ElXOtMEqh4sB",
    "outputId": "002ba794-814a-4565-c011-fa797681905b"
   },
   "outputs": [
    {
     "name": "stdout",
     "output_type": "stream",
     "text": [
      "Train on 48000 samples, validate on 12000 samples\n",
      "Epoch 1/15\n",
      " - 5s - loss: 0.2002 - acc: 0.9372 - val_loss: 0.0562 - val_acc: 0.9824\n",
      "Epoch 2/15\n",
      " - 4s - loss: 0.0625 - acc: 0.9806 - val_loss: 0.0460 - val_acc: 0.9870\n",
      "Epoch 3/15\n",
      " - 5s - loss: 0.0446 - acc: 0.9861 - val_loss: 0.0360 - val_acc: 0.9891\n",
      "Epoch 4/15\n",
      " - 4s - loss: 0.0349 - acc: 0.9888 - val_loss: 0.0388 - val_acc: 0.9893\n",
      "Epoch 5/15\n",
      " - 4s - loss: 0.0237 - acc: 0.9924 - val_loss: 0.0327 - val_acc: 0.9909\n",
      "Epoch 6/15\n",
      " - 4s - loss: 0.0207 - acc: 0.9936 - val_loss: 0.0316 - val_acc: 0.9908\n",
      "Epoch 7/15\n",
      " - 4s - loss: 0.0197 - acc: 0.9940 - val_loss: 0.0313 - val_acc: 0.9912\n",
      "Epoch 8/15\n",
      " - 4s - loss: 0.0186 - acc: 0.9944 - val_loss: 0.0314 - val_acc: 0.9909\n",
      "Epoch 9/15\n",
      " - 4s - loss: 0.0170 - acc: 0.9946 - val_loss: 0.0314 - val_acc: 0.9912\n",
      "Epoch 10/15\n",
      " - 5s - loss: 0.0176 - acc: 0.9945 - val_loss: 0.0314 - val_acc: 0.9912\n",
      "Epoch 11/15\n",
      " - 5s - loss: 0.0174 - acc: 0.9949 - val_loss: 0.0314 - val_acc: 0.9912\n",
      "Epoch 12/15\n",
      " - 5s - loss: 0.0167 - acc: 0.9948 - val_loss: 0.0314 - val_acc: 0.9912\n",
      "Epoch 13/15\n",
      " - 4s - loss: 0.0173 - acc: 0.9949 - val_loss: 0.0314 - val_acc: 0.9912\n",
      "Epoch 14/15\n",
      " - 4s - loss: 0.0162 - acc: 0.9955 - val_loss: 0.0314 - val_acc: 0.9912\n",
      "Epoch 15/15\n",
      " - 4s - loss: 0.0169 - acc: 0.9949 - val_loss: 0.0314 - val_acc: 0.9912\n"
     ]
    }
   ],
   "source": [
    "history = model.fit(x_train, y_train,\n",
    "                    epochs = 15,\n",
    "                    batch_size=64,\n",
    "                    verbose=2,\n",
    "                    callbacks=callbacks_list,\n",
    "                    validation_split=0.2)"
   ]
  },
  {
   "cell_type": "code",
   "execution_count": 47,
   "metadata": {
    "colab": {
     "base_uri": "https://localhost:8080/",
     "height": 851
    },
    "colab_type": "code",
    "id": "m8CxxCdHlNCU",
    "outputId": "10de0a50-fa0a-4865-bab1-7b644e09c304"
   },
   "outputs": [
    {
     "data": {
      "image/png": "[encoded data removed]",
      "text/plain": [
       "<Figure size 432x288 with 1 Axes>"
      ]
     },
     "metadata": {
      "needs_background": "light",
      "tags": []
     },
     "output_type": "display_data"
    },
    {
     "data": {
      "image/png": "[encoded data removed]",
      "text/plain": [
       "<Figure size 432x288 with 1 Axes>"
      ]
     },
     "metadata": {
      "needs_background": "light",
      "tags": []
     },
     "output_type": "display_data"
    },
    {
     "data": {
      "image/png": "[encoded data removed]",
      "text/plain": [
       "<Figure size 432x288 with 1 Axes>"
      ]
     },
     "metadata": {
      "needs_background": "light",
      "tags": []
     },
     "output_type": "display_data"
    }
   ],
   "source": [
    "acc = history.history['acc']\n",
    "val_acc = history.history['val_acc']\n",
    "loss = history.history['loss']\n",
    "val_loss = history.history['val_loss']\n",
    "lr = history.history['lr']\n",
    "\n",
    "epochs = range(1, len(acc)+1)\n",
    "\n",
    "plt.plot(epochs, acc, 'r', label='Training acc')\n",
    "plt.plot(epochs, val_acc, 'b', label='Validation acc')\n",
    "plt.title('Training and validation accuracy')\n",
    "plt.legend()\n",
    "plt.xlabel('Epochs')\n",
    "plt.ylabel('Accuracy')\n",
    "plt.show()\n",
    "\n",
    "plt.figure()\n",
    "plt.plot(epochs, loss, 'r', label='Training loss')\n",
    "plt.plot(epochs, val_loss, 'b', label='Validation loss')\n",
    "plt.title('Training and validation loss')\n",
    "plt.legend()\n",
    "plt.xlabel('Epochs')\n",
    "plt.ylabel('Loss')\n",
    "plt.show()\n",
    "\n",
    "plt.figure()\n",
    "plt.plot(epochs, lr, 'b', label='Learning Rate')\n",
    "plt.title('Learning Rate')\n",
    "plt.xlabel('Epochs')\n",
    "plt.ylabel('Learning Rate')\n",
    "plt.legend()\n",
    "plt.show()"
   ]
  },
  {
   "cell_type": "code",
   "execution_count": 42,
   "metadata": {
    "colab": {
     "base_uri": "https://localhost:8080/",
     "height": 51
    },
    "colab_type": "code",
    "id": "LSaQWz6flM8V",
    "outputId": "a29a94d6-d47c-41ef-e0bd-0fda8c4693df"
   },
   "outputs": [
    {
     "name": "stdout",
     "output_type": "stream",
     "text": [
      "Test loss: 0.07165228993394121\n",
      "Test accuracy: 0.9778000116348267\n"
     ]
    }
   ],
   "source": [
    "score = model.evaluate(x_test, y_test, verbose=0)\n",
    "print('Test loss:', score[0])\n",
    "print('Test accuracy:', score[1])"
   ]
  },
  {
   "cell_type": "markdown",
   "metadata": {
    "colab_type": "text",
    "id": "ldslBuwQgMOd"
   },
   "source": [
    "#### WRITING YOUR OWN CALLBACK"
   ]
  },
  {
   "cell_type": "markdown",
   "metadata": {
    "colab_type": "text",
    "id": "2TMp66GNl0s2"
   },
   "source": [
    "If you need to take a specific action during training that isn't covered by one of the built-in callbacks, you can write your own callback. You can then implement any number of the following transparently named methods, which are called at various points during training:\n",
    "  + `on_epoch_begin`: called at the start of every epoch\n",
    "  + `on_epoch_end`: called ate the end of every epochs\n",
    "  + `on_batch_begin`: called right before processing each batch\n",
    "  + `on_batch_end`: called right after processing each batch\n",
    "  + `on_train_begin`: called at the start of training\n",
    "  + `on_train_end`: called at the end of training"
   ]
  },
  {
   "cell_type": "markdown",
   "metadata": {
    "colab_type": "text",
    "id": "nAMenX49m1Oj"
   },
   "source": [
    "These methods all are called with a `logs` argument, which is a dictionary containing information about the previous batch, epoch, or training run. Additionally, the callback has access to the following attributes:\n",
    "  + `self.model`--The model instance from which the callback is being called\n",
    "  + `self.validation`--The value of what was passed to `fit` as validation data"
   ]
  },
  {
   "cell_type": "code",
   "execution_count": 0,
   "metadata": {
    "colab": {},
    "colab_type": "code",
    "id": "qClW9LTQlM38"
   },
   "outputs": [],
   "source": [
    "import keras\n",
    "import numpy as np\n",
    "\n",
    "class ActivaitonLogger(keras.callbacks.Callback):\n",
    "\n",
    "    def set_model(self, model):\n",
    "        # Called by the parent model before training,\n",
    "        # to inform the callback of what model will be calling it\n",
    "        self.model = model\n",
    "        layer_outputs = [layer.output for layer in model.layers]\n",
    "        # Model instance that returns the activations of every layer\n",
    "        self.activations_model = keras.models.Model(model.input, layer_outputs)\n",
    "    \n",
    "    def on_epoch_end(self, epoch, logs=None):\n",
    "        if self.validation_data is None:\n",
    "            raise RuntimeError('Requires validation_data.')\n",
    "        # Obtain the first input sample of the validation data\n",
    "        validation_sample = self.validation_data[0][0:1]\n",
    "        # Saves arrays to disk\n",
    "        activations = self.activations_model.predict(validation_sample)\n",
    "        f = open('activations_at_epoch_' + str(epoch) + '.npz', 'w')\n",
    "        np.savez(f, activations)\n",
    "        f.close()"
   ]
  },
  {
   "cell_type": "markdown",
   "metadata": {
    "colab_type": "text",
    "id": "BUwPQoVjIosd"
   },
   "source": [
    "##### Train a CNN model using the Functional API and MNIST data with custom ActivationLogger callback"
   ]
  },
  {
   "cell_type": "code",
   "execution_count": 48,
   "metadata": {
    "colab": {
     "base_uri": "https://localhost:8080/",
     "height": 422
    },
    "colab_type": "code",
    "id": "xxgByF5NI8JN",
    "outputId": "16914fc8-42ab-4137-dd51-6f8d5d1369a4"
   },
   "outputs": [
    {
     "name": "stdout",
     "output_type": "stream",
     "text": [
      "Model: \"sequential_12\"\n",
      "_________________________________________________________________\n",
      "Layer (type)                 Output Shape              Param #   \n",
      "=================================================================\n",
      "conv2d_23 (Conv2D)           (None, 26, 26, 32)        320       \n",
      "_________________________________________________________________\n",
      "max_pooling2d_23 (MaxPooling (None, 13, 13, 32)        0         \n",
      "_________________________________________________________________\n",
      "conv2d_24 (Conv2D)           (None, 11, 11, 64)        18496     \n",
      "_________________________________________________________________\n",
      "max_pooling2d_24 (MaxPooling (None, 5, 5, 64)          0         \n",
      "_________________________________________________________________\n",
      "flatten_12 (Flatten)         (None, 1600)              0         \n",
      "_________________________________________________________________\n",
      "dense_23 (Dense)             (None, 512)               819712    \n",
      "_________________________________________________________________\n",
      "dropout_12 (Dropout)         (None, 512)               0         \n",
      "_________________________________________________________________\n",
      "dense_24 (Dense)             (None, 10)                5130      \n",
      "=================================================================\n",
      "Total params: 843,658\n",
      "Trainable params: 843,658\n",
      "Non-trainable params: 0\n",
      "_________________________________________________________________\n"
     ]
    }
   ],
   "source": [
    "model = Sequential()\n",
    "model.add(layers.Conv2D(32, (3,3), activation='relu', input_shape=(28,28,1)))\n",
    "model.add(layers.MaxPooling2D())\n",
    "model.add(layers.Conv2D(64, (3,3), activation='relu'))\n",
    "model.add(layers.MaxPooling2D())\n",
    "model.add(layers.Flatten())\n",
    "model.add(layers.Dense(512, activation='relu'))\n",
    "model.add(layers.Dropout(0.5))\n",
    "model.add(layers.Dense(10, activation='softmax'))\n",
    "\n",
    "model.compile(optimizer=optimizers.RMSprop(lr=0.02),\n",
    "              loss='categorical_crossentropy',\n",
    "              metrics=['acc'])\n",
    "\n",
    "model.summary()"
   ]
  },
  {
   "cell_type": "code",
   "execution_count": 50,
   "metadata": {
    "colab": {
     "base_uri": "https://localhost:8080/",
     "height": 439
    },
    "colab_type": "code",
    "id": "1bNr5v-lKhHz",
    "outputId": "5e95d447-033a-456f-8312-5000f8a1bf0f"
   },
   "outputs": [
    {
     "name": "stdout",
     "output_type": "stream",
     "text": [
      "Train on 48000 samples, validate on 12000 samples\n",
      "Epoch 1/12\n",
      " - 3s - loss: 0.1875 - acc: 0.9517 - val_loss: 0.1342 - val_acc: 0.9667\n",
      "Epoch 2/12\n",
      " - 3s - loss: 0.1821 - acc: 0.9557 - val_loss: 0.1187 - val_acc: 0.9724\n",
      "Epoch 3/12\n",
      " - 3s - loss: 0.1939 - acc: 0.9560 - val_loss: 0.1265 - val_acc: 0.9716\n",
      "Epoch 4/12\n",
      " - 3s - loss: 0.2084 - acc: 0.9549 - val_loss: 0.1451 - val_acc: 0.9688\n",
      "Epoch 5/12\n",
      " - 3s - loss: 0.2146 - acc: 0.9547 - val_loss: 0.3655 - val_acc: 0.9515\n",
      "Epoch 6/12\n",
      " - 3s - loss: 0.2119 - acc: 0.9534 - val_loss: 0.1791 - val_acc: 0.9576\n",
      "Epoch 7/12\n",
      " - 3s - loss: 0.2306 - acc: 0.9539 - val_loss: 0.1614 - val_acc: 0.9592\n",
      "Epoch 8/12\n",
      " - 3s - loss: 0.2558 - acc: 0.9532 - val_loss: 0.1774 - val_acc: 0.9737\n",
      "Epoch 9/12\n",
      " - 3s - loss: 0.2389 - acc: 0.9535 - val_loss: 0.1372 - val_acc: 0.9747\n",
      "Epoch 10/12\n",
      " - 3s - loss: 0.2475 - acc: 0.9493 - val_loss: 0.1550 - val_acc: 0.9719\n",
      "Epoch 11/12\n",
      " - 3s - loss: 0.2519 - acc: 0.9488 - val_loss: 0.2006 - val_acc: 0.9657\n",
      "Epoch 12/12\n",
      " - 3s - loss: 0.2554 - acc: 0.9495 - val_loss: 0.1877 - val_acc: 0.9463\n"
     ]
    }
   ],
   "source": [
    "import numpy as np\n",
    "\n",
    "class ActivationLogger(keras.callbacks.Callback):\n",
    "\n",
    "    def set_model(self, model):\n",
    "        self.model = model\n",
    "        layer_outputs = [layer.output for layer in model.layers]\n",
    "        self.activations_model = keras.models.Model(model.input,layer_outputs)\n",
    "\n",
    "    def on_epoch_end(self, epoch, logs=None):\n",
    "        if self.validation_data is None:\n",
    "            raise RuntimeError('Requires validation_data.')\n",
    "        # Obtains the first input sample of the validation data\n",
    "        validation_sample_x = self.validation_data[0][0:1]\n",
    "        validation_sample_y = self.validation_data[1]\n",
    "        # predict(self, x, batch_size=None, verbose=0, steps=None)\n",
    "        # x: The input data, as a Numpy array (or list of Numpy arrays if the model has multiple outputs).\n",
    "        activations = self.activations_model.predict(validation_sample_x)\n",
    "        # Saves arrays to disk\n",
    "        f = open('activations_at_epoch_' + str(epoch) + '.npz', 'wb')\n",
    "        # Since we have several arrays of different dimensions, we expand the arguments:\n",
    "        np.savez(f,*activations)\n",
    "        f.close()\n",
    "        \n",
    "# Callbacks are passed to the model via the callbacks argument in fit, \n",
    "# which takes a list of callbacks. You can pass any number of callbacks.\n",
    "callbacks_list = [ \n",
    "    ActivationLogger() \n",
    "] \n",
    "\n",
    "history = model.fit(x_train, y_train,\n",
    "                    epochs=12,\n",
    "                    batch_size=batch_size,\n",
    "                    verbose=2,\n",
    "                    callbacks=callbacks_list,\n",
    "                    validation_split=0.2\n",
    "                   )"
   ]
  },
  {
   "cell_type": "code",
   "execution_count": 59,
   "metadata": {
    "colab": {
     "base_uri": "https://localhost:8080/",
     "height": 101
    },
    "colab_type": "code",
    "id": "7yl-c-PuKhDS",
    "outputId": "67ed931e-47bb-40bb-f79f-421b7bb584cc"
   },
   "outputs": [
    {
     "name": "stdout",
     "output_type": "stream",
     "text": [
      "8\n",
      "[[2.8623184e-03 1.7113639e-03 6.8433732e-03 2.9298651e-04 9.6311474e-01\n",
      "  2.0135420e-04 1.0536326e-02 2.1587449e-04 4.5922333e-03 9.6294293e-03]]\n",
      "The shape of the last layer: (1, 10)\n",
      "The shape of the first layer: (1, 26, 26, 32)\n"
     ]
    }
   ],
   "source": [
    "# For example, recover the arrays of weights for the last epoch 12 => 11 \n",
    "# and the last layer 9 => 8\n",
    "last_epoch_activations = np.load('activations_at_epoch_11.npz')\n",
    "activations = [last_epoch_activations[key] for key in last_epoch_activations]\n",
    "print(len(activations))\n",
    "print(activations[7])\n",
    "print('The shape of the last layer:', activations[7].shape)\n",
    "print('The shape of the first layer:', activations[0].shape)"
   ]
  },
  {
   "cell_type": "markdown",
   "metadata": {
    "colab_type": "text",
    "id": "CC0UV9VlNQdw"
   },
   "source": [
    "### 7.2.2 Introduction to TensorBoard: the Tensorflow visualization framework"
   ]
  },
  {
   "cell_type": "markdown",
   "metadata": {
    "colab_type": "text",
    "id": "hd9TwIlWNQRD"
   },
   "source": [
    "To do good research or develop good models, you need rich, frequent feedback about what's going on inside your model during your experiments.\n",
    "\n",
    "<img src='image/fig79.PNG' width='500'>\n",
    "\n",
    "This section introduces TensorBoard, a browser-based visualization tool that comes packaged with Tensorflow. The key purpose of TensorBoard is to help you visually monitor everything that goes inside your model during training. TensorBoard gives you access to several neat features, all in your browser:\n",
    "  + Visually monitoring metrics during training\n",
    "  + Visualizing your model architecture\n",
    "  + Visualizing histograms of activations and gradients\n",
    "  + Exploring embeddings in 3D"
   ]
  },
  {
   "cell_type": "markdown",
   "metadata": {
    "colab_type": "text",
    "id": "SbQlT6HINQBX"
   },
   "source": [
    "Let's demonstrate these features on a simple example. You'll train a 1D convnet on the IMDB sentiment-analysis task."
   ]
  },
  {
   "cell_type": "markdown",
   "metadata": {
    "colab_type": "text",
    "id": "EVeBfCj7OgeY"
   },
   "source": [
    "#### Text-classification model to use with TensorBoard"
   ]
  },
  {
   "cell_type": "code",
   "execution_count": 65,
   "metadata": {
    "colab": {
     "base_uri": "https://localhost:8080/",
     "height": 355
    },
    "colab_type": "code",
    "id": "CoUKt8wGKhBQ",
    "outputId": "9ddf972e-b560-4d5a-b65d-0bbd92550c77"
   },
   "outputs": [
    {
     "name": "stdout",
     "output_type": "stream",
     "text": [
      "Model: \"sequential_14\"\n",
      "_________________________________________________________________\n",
      "Layer (type)                 Output Shape              Param #   \n",
      "=================================================================\n",
      "embed (Embedding)            (None, 500, 128)          256000    \n",
      "_________________________________________________________________\n",
      "conv1d_3 (Conv1D)            (None, 494, 32)           28704     \n",
      "_________________________________________________________________\n",
      "max_pooling1d_2 (MaxPooling1 (None, 98, 32)            0         \n",
      "_________________________________________________________________\n",
      "conv1d_4 (Conv1D)            (None, 92, 32)            7200      \n",
      "_________________________________________________________________\n",
      "global_max_pooling1d_2 (Glob (None, 32)                0         \n",
      "_________________________________________________________________\n",
      "dense_26 (Dense)             (None, 1)                 33        \n",
      "=================================================================\n",
      "Total params: 291,937\n",
      "Trainable params: 291,937\n",
      "Non-trainable params: 0\n",
      "_________________________________________________________________\n"
     ]
    }
   ],
   "source": [
    "import keras\n",
    "from keras import layers\n",
    "from keras.datasets import imdb\n",
    "from keras.preprocessing import sequence\n",
    "\n",
    "max_features = 2000\n",
    "max_len = 500\n",
    "\n",
    "(x_train, y_train), (x_test, y_test) = imdb.load_data(num_words=max_features)\n",
    "x_train = sequence.pad_sequences(x_train, maxlen=max_len)\n",
    "x_test = sequence.pad_sequences(x_test, maxlen=max_len)\n",
    "\n",
    "model = keras.models.Sequential()\n",
    "model.add(layers.Embedding(max_features, 128, input_length=max_len, name='embed'))\n",
    "model.add(layers.Conv1D(32, 7, activation='relu'))\n",
    "model.add(layers.MaxPooling1D(5))\n",
    "model.add(layers.Conv1D(32, 7, activation='relu'))\n",
    "model.add(layers.GlobalMaxPooling1D())\n",
    "model.add(layers.Dense(1))\n",
    "\n",
    "model.summary()"
   ]
  },
  {
   "cell_type": "code",
   "execution_count": 0,
   "metadata": {
    "colab": {},
    "colab_type": "code",
    "id": "dBsjZptJNPGM"
   },
   "outputs": [],
   "source": [
    "model.compile(optimizer='rmsprop',\n",
    "              loss='binary_crossentropy',\n",
    "              metrics=['acc'])"
   ]
  },
  {
   "cell_type": "markdown",
   "metadata": {
    "colab_type": "text",
    "id": "WxfeUkmzPwft"
   },
   "source": [
    "#### Creating a directory for TensorBoard log files"
   ]
  },
  {
   "cell_type": "code",
   "execution_count": 67,
   "metadata": {
    "colab": {
     "base_uri": "https://localhost:8080/",
     "height": 34
    },
    "colab_type": "code",
    "id": "GwOY1oMpNO9Q",
    "outputId": "238456b5-1b96-4d1c-bcb1-b8898a162f36"
   },
   "outputs": [
    {
     "name": "stdout",
     "output_type": "stream",
     "text": [
      "mkdir: cannot create directory ‘my_log_dir’: File exists\n"
     ]
    }
   ],
   "source": [
    "mkdir my_log_dir"
   ]
  },
  {
   "cell_type": "markdown",
   "metadata": {
    "colab_type": "text",
    "id": "Uhd6heHeQItK"
   },
   "source": [
    "#### Training the model with a TensorBoard callback"
   ]
  },
  {
   "cell_type": "code",
   "execution_count": 68,
   "metadata": {
    "colab": {
     "base_uri": "https://localhost:8080/",
     "height": 51
    },
    "colab_type": "code",
    "id": "8z2pA-fkNO26",
    "outputId": "182b8032-1085-48b1-ef80-e65b1f201f54"
   },
   "outputs": [
    {
     "name": "stderr",
     "output_type": "stream",
     "text": [
      "/usr/local/lib/python3.6/dist-packages/keras/callbacks/tensorboard_v2.py:102: UserWarning: The TensorBoard callback does not support embeddings display when using TensorFlow 2.0. Embeddings-related arguments are ignored.\n",
      "  warnings.warn('The TensorBoard callback does not support '\n"
     ]
    }
   ],
   "source": [
    "callbacks = [\n",
    "             keras.callbacks.TensorBoard(\n",
    "                 # Log files will be written at this location\n",
    "                 log_dir='my_log_dir',\n",
    "                 # Records activation histograms every 1 epoch\n",
    "                 histogram_freq=1,\n",
    "                 # Records embedding data every 1 epoch\n",
    "                 embeddings_freq=1\n",
    "             )\n",
    "]"
   ]
  },
  {
   "cell_type": "code",
   "execution_count": 69,
   "metadata": {
    "colab": {
     "base_uri": "https://localhost:8080/",
     "height": 743
    },
    "colab_type": "code",
    "id": "iP_Vvo6pQhvw",
    "outputId": "39982f89-e5f0-460c-fab8-2a929c0aafe6"
   },
   "outputs": [
    {
     "name": "stderr",
     "output_type": "stream",
     "text": [
      "/usr/local/lib/python3.6/dist-packages/tensorflow/python/framework/indexed_slices.py:434: UserWarning: Converting sparse IndexedSlices to a dense Tensor of unknown shape. This may consume a large amount of memory.\n",
      "  \"Converting sparse IndexedSlices to a dense Tensor of unknown shape. \"\n"
     ]
    },
    {
     "name": "stdout",
     "output_type": "stream",
     "text": [
      "Train on 20000 samples, validate on 5000 samples\n",
      "Epoch 1/20\n",
      " - 3s - loss: 0.6076 - acc: 0.6705 - val_loss: 0.4156 - val_acc: 0.8316\n",
      "Epoch 2/20\n",
      " - 2s - loss: 0.4322 - acc: 0.8138 - val_loss: 0.4332 - val_acc: 0.8044\n",
      "Epoch 3/20\n",
      " - 2s - loss: 0.3920 - acc: 0.7708 - val_loss: 0.7191 - val_acc: 0.6822\n",
      "Epoch 4/20\n",
      " - 2s - loss: 0.3442 - acc: 0.7369 - val_loss: 0.5303 - val_acc: 0.7166\n",
      "Epoch 5/20\n",
      " - 2s - loss: 0.3072 - acc: 0.7097 - val_loss: 0.5742 - val_acc: 0.6504\n",
      "Epoch 6/20\n",
      " - 2s - loss: 0.2509 - acc: 0.6598 - val_loss: 0.7721 - val_acc: 0.5732\n",
      "Epoch 7/20\n",
      " - 2s - loss: 0.2068 - acc: 0.6177 - val_loss: 0.6898 - val_acc: 0.5238\n",
      "Epoch 8/20\n",
      " - 2s - loss: 0.1773 - acc: 0.5544 - val_loss: 0.7453 - val_acc: 0.4726\n",
      "Epoch 9/20\n",
      " - 2s - loss: 0.1476 - acc: 0.4961 - val_loss: 0.8937 - val_acc: 0.4174\n",
      "Epoch 10/20\n",
      " - 2s - loss: 0.1308 - acc: 0.4369 - val_loss: 0.9124 - val_acc: 0.3828\n",
      "Epoch 11/20\n",
      " - 2s - loss: 0.1151 - acc: 0.3865 - val_loss: 0.8963 - val_acc: 0.3714\n",
      "Epoch 12/20\n",
      " - 2s - loss: 0.1085 - acc: 0.3541 - val_loss: 2.1298 - val_acc: 0.2496\n",
      "Epoch 13/20\n",
      " - 2s - loss: 0.1149 - acc: 0.2900 - val_loss: 1.0062 - val_acc: 0.3124\n",
      "Epoch 14/20\n",
      " - 2s - loss: 0.1042 - acc: 0.2603 - val_loss: 1.0108 - val_acc: 0.2864\n",
      "Epoch 15/20\n",
      " - 2s - loss: 0.1096 - acc: 0.2149 - val_loss: 1.1178 - val_acc: 0.2512\n",
      "Epoch 16/20\n",
      " - 2s - loss: 0.1019 - acc: 0.1830 - val_loss: 1.0640 - val_acc: 0.2464\n",
      "Epoch 17/20\n",
      " - 2s - loss: 0.1020 - acc: 0.1849 - val_loss: 1.8872 - val_acc: 0.2230\n",
      "Epoch 18/20\n",
      " - 2s - loss: 0.1002 - acc: 0.1578 - val_loss: 1.1437 - val_acc: 0.2354\n",
      "Epoch 19/20\n",
      " - 2s - loss: 0.0939 - acc: 0.1409 - val_loss: 1.1640 - val_acc: 0.2178\n",
      "Epoch 20/20\n",
      " - 2s - loss: 0.0971 - acc: 0.1268 - val_loss: 1.1541 - val_acc: 0.2110\n"
     ]
    }
   ],
   "source": [
    "history = model.fit(x_train, y_train,\n",
    "                    epochs=20,\n",
    "                    batch_size=128,\n",
    "                    validation_split=0.2,\n",
    "                    callbacks=callbacks,\n",
    "                    verbose=2)"
   ]
  }
 ],
 "metadata": {
  "accelerator": "GPU",
  "colab": {
   "collapsed_sections": [],
   "name": "PART2_7.2_Inspecting and monitoring deep-learning models.ipynb",
   "provenance": []
  },
  "kernelspec": {
   "display_name": "Python 3",
   "language": "python",
   "name": "python3"
  },
  "language_info": {
   "codemirror_mode": {
    "name": "ipython",
    "version": 3
   },
   "file_extension": ".py",
   "mimetype": "text/x-python",
   "name": "python",
   "nbconvert_exporter": "python",
   "pygments_lexer": "ipython3",
   "version": "3.6.7"
  }
 },
 "nbformat": 4,
 "nbformat_minor": 1
}
