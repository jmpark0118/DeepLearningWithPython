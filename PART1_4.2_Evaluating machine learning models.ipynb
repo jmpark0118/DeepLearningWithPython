{
 "cells": [
  {
   "cell_type": "markdown",
   "metadata": {},
   "source": [
    "# Chapter4 : Fundamentals of machine learning"
   ]
  },
  {
   "cell_type": "markdown",
   "metadata": {},
   "source": [
    "## 4.1 Four branches of machine learning"
   ]
  },
  {
   "cell_type": "markdown",
   "metadata": {},
   "source": [
    "All the three examples in our previous chapter are instances of ***supervised learning***. Supervised learning is just the tip of the iceberg. Machine learning algorithms generally fall into four broad categories: *supervised learning, unsupervised learning, self-supervised learning, reinforement learning*."
   ]
  },
  {
   "cell_type": "markdown",
   "metadata": {},
   "source": [
    "### 4.1.1 Supervised learning"
   ]
  },
  {
   "cell_type": "markdown",
   "metadata": {},
   "source": [
    "* consists of learning to map input data to known targets\n",
    "  + *optical character recognition, speech recognition, image classification, language translation, sequence generation, syntax tree prediction, object detection, image segmentation*"
   ]
  },
  {
   "cell_type": "markdown",
   "metadata": {},
   "source": [
    "### 4.1.2 Unsupervised learning"
   ]
  },
  {
   "cell_type": "markdown",
   "metadata": {},
   "source": [
    "* consists of finding interesting transformations of the input data without the help of any targets\n",
    "* for the purpose of data visualization, data compression, data denoising, or to better understand the correlations present in the data at hand\n",
    "* often a necessary step in better understanding a dataset before attempting to solve a supervised-learning problem\n",
    "  + *dimensionally reduction, clustering*"
   ]
  },
  {
   "cell_type": "markdown",
   "metadata": {},
   "source": [
    "### 4.1.3 Self-supervised learning"
   ]
  },
  {
   "cell_type": "markdown",
   "metadata": {},
   "source": [
    "* specific instance of supervised learning\n",
    "* supervised learning without human-annotated labels\n",
    "  + *autoencoders*"
   ]
  },
  {
   "cell_type": "markdown",
   "metadata": {},
   "source": [
    "### 4.1.4 Reinforcement learning"
   ]
  },
  {
   "cell_type": "markdown",
   "metadata": {},
   "source": [
    "* In reinforcement learning, an agent receives information about its environment and learns to choose actions that will maximize some reward.\n",
    "  + For instance, a neural network that \"looks\" at a video game screen and outputs game actions in order to maximize its score can be trained via reinforcement learning."
   ]
  },
  {
   "cell_type": "markdown",
   "metadata": {},
   "source": [
    "## 4.2 Evaluating machine-learning models"
   ]
  },
  {
   "cell_type": "markdown",
   "metadata": {},
   "source": [
    "In machine learning, the goal is to achieve models that ***generalize***--that perform well on never-before-seen data--and overfitting is the central obstacle."
   ]
  },
  {
   "cell_type": "markdown",
   "metadata": {},
   "source": [
    "### 4.2.1 Training, validation, and test sets"
   ]
  },
  {
   "cell_type": "markdown",
   "metadata": {},
   "source": [
    "* Evaluating a model always boils down to splitting the available data into three set: training, validation, and test. You train on the training data, evaluate model on the validation data, and test it one final time on the test data.\n",
    "* Splitting your data into training, validation, and test sets may seem straightforward, but there are a few advanced way to do it that can come in handy when little data is available: *simple hold-out validation, K-fold validation, and iterated K-fold validation with shuffling*."
   ]
  },
  {
   "cell_type": "markdown",
   "metadata": {},
   "source": [
    "#### Hold-out validation"
   ]
  },
  {
   "cell_type": "code",
   "execution_count": null,
   "metadata": {},
   "outputs": [],
   "source": [
    "num_validation_samples = 10000\n",
    "\n",
    "# shuffle data\n",
    "np.random.shuffle(data)\n",
    "\n",
    "# define validation set\n",
    "validation_data = data[:num_validation_samples]\n",
    "data = data[num_validation_samples:]\n",
    "\n",
    "# define training set\n",
    "training_data = data[:]\n",
    "\n",
    "# trains model on the training data, and evaluates it on the validation data\n",
    "model = get_model()\n",
    "model.train(training_data)\n",
    "validation_score = model.evaluate(validation_data)\n",
    "\n",
    "# After tuning the model, train your final model from scratch on all non-test data available\n",
    "model = get_model()\n",
    "model.train(np.concatenate([training_data, validation_data]))\n",
    "test_score = model.evaluate(test_data)"
   ]
  },
  {
   "cell_type": "markdown",
   "metadata": {},
   "source": [
    "#### K-fold validation"
   ]
  },
  {
   "cell_type": "code",
   "execution_count": null,
   "metadata": {},
   "outputs": [],
   "source": [
    "k = 4\n",
    "num_validation_samples = len(data)//k\n",
    "\n",
    "np.random.shuffle(data)\n",
    "\n",
    "validation_scores = []\n",
    "for fold in range(k) :\n",
    "    validation_data = data[num_validation_samples*fold : num_validation_samples*(fold+1)]\n",
    "    training_data = data[:num_validation_samples*fold] + data[num_validation_samples*(fold+1):]\n",
    "    \n",
    "    model = get_model()\n",
    "    model.train(training_data)\n",
    "    validation_score = model.evaluate(validation_data)\n",
    "    validation_scores.append(validation_score)\n",
    "\n",
    "validation_score = np.average(valiation_scores)\n",
    "\n",
    "model.get_model()\n",
    "model.train(data)\n",
    "test_score = model.evaluate(test_data)"
   ]
  },
  {
   "cell_type": "markdown",
   "metadata": {},
   "source": [
    "#### Iterated K-fold validation with shuffling"
   ]
  },
  {
   "cell_type": "markdown",
   "metadata": {},
   "source": [
    "* This is for situations in which you have relatively little data available and you need to evaluate your model as precisely as possible.\n",
    "* It consists of applying K-fold validation multiple times, shuffling the data every time before splitting it K ways.\n",
    "* Note that the training process can be very expensive."
   ]
  }
 ],
 "metadata": {
  "kernelspec": {
   "display_name": "Python 3",
   "language": "python",
   "name": "python3"
  },
  "language_info": {
   "codemirror_mode": {
    "name": "ipython",
    "version": 3
   },
   "file_extension": ".py",
   "mimetype": "text/x-python",
   "name": "python",
   "nbconvert_exporter": "python",
   "pygments_lexer": "ipython3",
   "version": "3.6.7"
  }
 },
 "nbformat": 4,
 "nbformat_minor": 2
}
