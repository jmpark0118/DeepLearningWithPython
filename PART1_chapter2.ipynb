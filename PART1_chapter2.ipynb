{
 "cells": [
  {
   "cell_type": "markdown",
   "metadata": {},
   "source": [
    "# Chapter2: Before we begin: the mathematical building blocks of neural networks"
   ]
  },
  {
   "cell_type": "markdown",
   "metadata": {},
   "source": [
    "## 2.2 Data representation for neural networks"
   ]
  },
  {
   "cell_type": "markdown",
   "metadata": {},
   "source": [
    "### 2.2.5 Key attributes"
   ]
  },
  {
   "cell_type": "code",
   "execution_count": 16,
   "metadata": {},
   "outputs": [],
   "source": [
    "from keras.datasets import mnist"
   ]
  },
  {
   "cell_type": "code",
   "execution_count": 17,
   "metadata": {},
   "outputs": [],
   "source": [
    "(train_images, train_labels), (test_images, test_labels) = mnist.load_data()"
   ]
  },
  {
   "cell_type": "code",
   "execution_count": 18,
   "metadata": {},
   "outputs": [
    {
     "data": {
      "text/plain": [
       "array([5, 0, 4, ..., 5, 6, 8], dtype=uint8)"
      ]
     },
     "execution_count": 18,
     "metadata": {},
     "output_type": "execute_result"
    }
   ],
   "source": [
    "mnist.load_data()[0][1]"
   ]
  },
  {
   "cell_type": "code",
   "execution_count": 19,
   "metadata": {},
   "outputs": [
    {
     "name": "stdout",
     "output_type": "stream",
     "text": [
      "3\n"
     ]
    }
   ],
   "source": [
    "print(train_images.ndim)"
   ]
  },
  {
   "cell_type": "code",
   "execution_count": 20,
   "metadata": {},
   "outputs": [
    {
     "name": "stdout",
     "output_type": "stream",
     "text": [
      "(60000, 28, 28)\n"
     ]
    }
   ],
   "source": [
    "print(train_images.shape)"
   ]
  },
  {
   "cell_type": "code",
   "execution_count": 21,
   "metadata": {},
   "outputs": [
    {
     "name": "stdout",
     "output_type": "stream",
     "text": [
      "uint8\n"
     ]
    }
   ],
   "source": [
    "print(train_images.dtype)"
   ]
  },
  {
   "cell_type": "code",
   "execution_count": 22,
   "metadata": {},
   "outputs": [],
   "source": [
    "digit = train_images[4]"
   ]
  },
  {
   "cell_type": "code",
   "execution_count": 23,
   "metadata": {},
   "outputs": [
    {
     "data": {
      "text/plain": [
       "(28, 28)"
      ]
     },
     "execution_count": 23,
     "metadata": {},
     "output_type": "execute_result"
    }
   ],
   "source": [
    "digit.shape"
   ]
  },
  {
   "cell_type": "code",
   "execution_count": 24,
   "metadata": {},
   "outputs": [
    {
     "data": {
      "text/plain": [
       "2"
      ]
     },
     "execution_count": 24,
     "metadata": {},
     "output_type": "execute_result"
    }
   ],
   "source": [
    "digit.ndim"
   ]
  },
  {
   "cell_type": "code",
   "execution_count": 25,
   "metadata": {},
   "outputs": [
    {
     "data": {
      "text/plain": [
       "dtype('uint8')"
      ]
     },
     "execution_count": 25,
     "metadata": {},
     "output_type": "execute_result"
    }
   ],
   "source": [
    "digit.dtype"
   ]
  },
  {
   "cell_type": "code",
   "execution_count": 26,
   "metadata": {},
   "outputs": [],
   "source": [
    "import matplotlib.pyplot as plt"
   ]
  },
  {
   "cell_type": "code",
   "execution_count": 27,
   "metadata": {
    "scrolled": true
   },
   "outputs": [
    {
     "data": {
      "image/png": "[encoded data removed]",
      "text/plain": [
       "<Figure size 432x288 with 1 Axes>"
      ]
     },
     "metadata": {
      "needs_background": "light"
     },
     "output_type": "display_data"
    }
   ],
   "source": [
    "plt.imshow(digit, cmap = plt.cm.binary)\n",
    "plt.show()"
   ]
  },
  {
   "cell_type": "markdown",
   "metadata": {},
   "source": [
    "### 2.2.6 Manipulating tensors in Numpy"
   ]
  },
  {
   "cell_type": "markdown",
   "metadata": {},
   "source": [
    "* selecting specific elements in a tensor is called **tensor slicing**"
   ]
  },
  {
   "cell_type": "code",
   "execution_count": 28,
   "metadata": {},
   "outputs": [
    {
     "name": "stdout",
     "output_type": "stream",
     "text": [
      "(90, 28, 28)\n"
     ]
    }
   ],
   "source": [
    "my_slice = train_images[10:100]  # 10번째부터 99번째\n",
    "print(my_slice.shape)"
   ]
  },
  {
   "cell_type": "code",
   "execution_count": 29,
   "metadata": {},
   "outputs": [
    {
     "data": {
      "text/plain": [
       "(90, 28, 28)"
      ]
     },
     "execution_count": 29,
     "metadata": {},
     "output_type": "execute_result"
    }
   ],
   "source": [
    "my_slice = train_images[10:100, :, :]  # : is equivalent to selecting the entire axis\n",
    "my_slice.shape"
   ]
  },
  {
   "cell_type": "code",
   "execution_count": 30,
   "metadata": {},
   "outputs": [
    {
     "data": {
      "text/plain": [
       "(90, 28, 28)"
      ]
     },
     "execution_count": 30,
     "metadata": {},
     "output_type": "execute_result"
    }
   ],
   "source": [
    "my_slice = train_images[10:100, 0:28, 0:28]\n",
    "my_slice.shape"
   ]
  },
  {
   "cell_type": "markdown",
   "metadata": {},
   "source": [
    "* what do you do if you want to crop the images to patches of 14X14 pixels centered in the middle?"
   ]
  },
  {
   "cell_type": "code",
   "execution_count": 31,
   "metadata": {},
   "outputs": [
    {
     "data": {
      "text/plain": [
       "(60000, 14, 14)"
      ]
     },
     "execution_count": 31,
     "metadata": {},
     "output_type": "execute_result"
    }
   ],
   "source": [
    "my_slice2 = train_images[:, 7:-7, 7:-7]\n",
    "my_slice2.shape"
   ]
  },
  {
   "cell_type": "markdown",
   "metadata": {},
   "source": [
    "### 2.2.7 The notion of data batchs"
   ]
  },
  {
   "cell_type": "code",
   "execution_count": 32,
   "metadata": {},
   "outputs": [
    {
     "data": {
      "text/plain": [
       "(128, 28, 28)"
      ]
     },
     "execution_count": 32,
     "metadata": {},
     "output_type": "execute_result"
    }
   ],
   "source": [
    "# first batch\n",
    "batch = train_images[:128]\n",
    "batch.shape"
   ]
  },
  {
   "cell_type": "code",
   "execution_count": 33,
   "metadata": {},
   "outputs": [
    {
     "data": {
      "text/plain": [
       "(128, 28, 28)"
      ]
     },
     "execution_count": 33,
     "metadata": {},
     "output_type": "execute_result"
    }
   ],
   "source": [
    "# second batch\n",
    "batch2 = train_images[128:256]\n",
    "batch2.shape"
   ]
  },
  {
   "cell_type": "code",
   "execution_count": 34,
   "metadata": {},
   "outputs": [
    {
     "data": {
      "text/plain": [
       "(128, 28, 28)"
      ]
     },
     "execution_count": 34,
     "metadata": {},
     "output_type": "execute_result"
    }
   ],
   "source": [
    "# n-th batch\n",
    "n = 10\n",
    "batchn = train_images[128*(n-1):128*n]\n",
    "batchn.shape"
   ]
  },
  {
   "cell_type": "code",
   "execution_count": 35,
   "metadata": {},
   "outputs": [
    {
     "data": {
      "text/plain": [
       "(28, 28)"
      ]
     },
     "execution_count": 35,
     "metadata": {},
     "output_type": "execute_result"
    }
   ],
   "source": [
    "batch[0].shape"
   ]
  },
  {
   "cell_type": "code",
   "execution_count": 36,
   "metadata": {},
   "outputs": [
    {
     "data": {
      "text/plain": [
       "2"
      ]
     },
     "execution_count": 36,
     "metadata": {},
     "output_type": "execute_result"
    }
   ],
   "source": [
    "batch[0].ndim"
   ]
  },
  {
   "cell_type": "markdown",
   "metadata": {},
   "source": [
    "* the first axis (axis 0) is called the ***batch axis*** or ***batch dimension***"
   ]
  },
  {
   "cell_type": "markdown",
   "metadata": {},
   "source": [
    "### 2.2.8 Real-world examples of data tensors"
   ]
  },
  {
   "cell_type": "markdown",
   "metadata": {},
   "source": [
    "* ***Vector data*** - 2D tensors of shape (samples, features)\n",
    "* ***Timeseries data or sequence data*** - 3D tensors of shape (samples, timesteps, feautres)\n",
    "* ***Images*** - 4D tensors of shape (samples, height, width, channels) or (samples, channels, height, width)\n",
    "* ***Video*** - 5D tensors of shape (samples, frames, height, width, channels) or (samples, frames, channels, height, width)"
   ]
  },
  {
   "cell_type": "markdown",
   "metadata": {},
   "source": [
    "## 2.3 The gears of neural networks: tensor operations"
   ]
  },
  {
   "cell_type": "markdown",
   "metadata": {},
   "source": [
    "* It is possible to add tensors, multiply tensors, and so on."
   ]
  },
  {
   "cell_type": "code",
   "execution_count": 37,
   "metadata": {},
   "outputs": [],
   "source": [
    "# keras.layers.Dense(512, activation = 'relu')\n",
    "# output = relu(dot(W, input) + b)"
   ]
  },
  {
   "cell_type": "markdown",
   "metadata": {},
   "source": [
    "### 2.3.1 Element-wise operations"
   ]
  },
  {
   "cell_type": "code",
   "execution_count": 38,
   "metadata": {},
   "outputs": [],
   "source": [
    "import numpy as np"
   ]
  },
  {
   "cell_type": "code",
   "execution_count": 39,
   "metadata": {},
   "outputs": [
    {
     "name": "stdout",
     "output_type": "stream",
     "text": [
      "-2\n",
      "0.0\n"
     ]
    }
   ],
   "source": [
    "x = 1; y = -3\n",
    "z = x + y    # element-wise addition\n",
    "print(z)\n",
    "z = np.maximum(z, 0.)    # element-wise relu\n",
    "print(z)"
   ]
  },
  {
   "cell_type": "markdown",
   "metadata": {},
   "source": [
    "### 2.3.2 Broadcasting"
   ]
  },
  {
   "cell_type": "markdown",
   "metadata": {},
   "source": [
    "What happens with addition when the shapes of the two tensors being added differ?\n",
    "- When possible, and if there's no ambiguity, the smaller tensor will be *broadcasted* to match the shape of the larger tensor. Broadcasting consists of two steps:\n",
    "> 1. Axes (called *broadcast axes) are added to the smaller tensor to match the **ndim** of the larger tensor.\n",
    "> 2. The smaller tensor is repeated alongside these new axes to match the full shape of the larger tensor."
   ]
  },
  {
   "cell_type": "code",
   "execution_count": 40,
   "metadata": {},
   "outputs": [
    {
     "data": {
      "text/plain": [
       "array([[ 4,  6],\n",
       "       [ 4,  7],\n",
       "       [ 1,  8],\n",
       "       [ 1,  8],\n",
       "       [ 8,  1],\n",
       "       [ 4,  4],\n",
       "       [ 9,  7],\n",
       "       [ 2,  6],\n",
       "       [12,  1],\n",
       "       [ 2,  2]])"
      ]
     },
     "execution_count": 40,
     "metadata": {},
     "output_type": "execute_result"
    }
   ],
   "source": [
    "X = np.random.randint(1, 15, size = (10,2))\n",
    "X"
   ]
  },
  {
   "cell_type": "code",
   "execution_count": 41,
   "metadata": {},
   "outputs": [
    {
     "data": {
      "text/plain": [
       "array([6, 3])"
      ]
     },
     "execution_count": 41,
     "metadata": {},
     "output_type": "execute_result"
    }
   ],
   "source": [
    "y = np.random. choice(10, 2)\n",
    "y"
   ]
  },
  {
   "cell_type": "code",
   "execution_count": 42,
   "metadata": {},
   "outputs": [
    {
     "data": {
      "text/plain": [
       "(10, 2)"
      ]
     },
     "execution_count": 42,
     "metadata": {},
     "output_type": "execute_result"
    }
   ],
   "source": [
    "X.shape"
   ]
  },
  {
   "cell_type": "code",
   "execution_count": 43,
   "metadata": {},
   "outputs": [
    {
     "data": {
      "text/plain": [
       "(2,)"
      ]
     },
     "execution_count": 43,
     "metadata": {},
     "output_type": "execute_result"
    }
   ],
   "source": [
    "y.shape"
   ]
  },
  {
   "cell_type": "code",
   "execution_count": 44,
   "metadata": {},
   "outputs": [
    {
     "data": {
      "text/plain": [
       "array([[10,  9],\n",
       "       [10, 10],\n",
       "       [ 7, 11],\n",
       "       [ 7, 11],\n",
       "       [14,  4],\n",
       "       [10,  7],\n",
       "       [15, 10],\n",
       "       [ 8,  9],\n",
       "       [18,  4],\n",
       "       [ 8,  5]])"
      ]
     },
     "execution_count": 44,
     "metadata": {},
     "output_type": "execute_result"
    }
   ],
   "source": [
    "X + y"
   ]
  },
  {
   "cell_type": "code",
   "execution_count": 45,
   "metadata": {},
   "outputs": [],
   "source": [
    "import numpy as np"
   ]
  },
  {
   "cell_type": "code",
   "execution_count": 46,
   "metadata": {},
   "outputs": [],
   "source": [
    "x = np.random.random((8, 3, 5, 2))\n",
    "y = np.random.random((5, 2))"
   ]
  },
  {
   "cell_type": "code",
   "execution_count": 47,
   "metadata": {},
   "outputs": [
    {
     "data": {
      "text/plain": [
       "array([[[[0.82012733, 0.49083159],\n",
       "         [0.36848159, 0.52843595],\n",
       "         [0.25570276, 0.91600292],\n",
       "         [0.42619786, 0.59136691],\n",
       "         [0.93909279, 0.59769412]],\n",
       "\n",
       "        [[0.23354328, 0.97463035],\n",
       "         [0.70075236, 0.58426745],\n",
       "         [0.59685584, 0.37135711],\n",
       "         [0.52524731, 0.15005208],\n",
       "         [0.64614684, 0.44570252]],\n",
       "\n",
       "        [[0.61683564, 0.54237953],\n",
       "         [0.84970574, 0.14219515],\n",
       "         [0.90059153, 0.5971159 ],\n",
       "         [0.33727338, 0.272214  ],\n",
       "         [0.99243533, 0.29711721]]],\n",
       "\n",
       "\n",
       "       [[[0.97138883, 0.69208574],\n",
       "         [0.20476755, 0.94640528],\n",
       "         [0.86122983, 0.90308826],\n",
       "         [0.74979166, 0.56620671],\n",
       "         [0.75391358, 0.69398194]],\n",
       "\n",
       "        [[0.58439592, 0.53765151],\n",
       "         [0.22229214, 0.06155793],\n",
       "         [0.71123565, 0.30575919],\n",
       "         [0.10719477, 0.62362127],\n",
       "         [0.40777228, 0.2726427 ]],\n",
       "\n",
       "        [[0.97002758, 0.17728883],\n",
       "         [0.63001907, 0.80649936],\n",
       "         [0.52119143, 0.03156616],\n",
       "         [0.16221122, 0.8742722 ],\n",
       "         [0.70845046, 0.75997111]]],\n",
       "\n",
       "\n",
       "       [[[0.14618897, 0.14927579],\n",
       "         [0.57973067, 0.61139509],\n",
       "         [0.63964827, 0.34678094],\n",
       "         [0.97700521, 0.31032737],\n",
       "         [0.45605865, 0.84138654]],\n",
       "\n",
       "        [[0.80331308, 0.20782243],\n",
       "         [0.54988911, 0.54641106],\n",
       "         [0.9341462 , 0.84693409],\n",
       "         [0.25838097, 0.74812425],\n",
       "         [0.76867619, 0.87495691]],\n",
       "\n",
       "        [[0.92169767, 0.90640425],\n",
       "         [0.9703532 , 0.22807012],\n",
       "         [0.05960577, 0.93272858],\n",
       "         [0.77547738, 0.10452969],\n",
       "         [0.02188684, 0.19961327]]],\n",
       "\n",
       "\n",
       "       [[[0.84908378, 0.51694806],\n",
       "         [0.49087129, 0.89675829],\n",
       "         [0.52995535, 0.35498309],\n",
       "         [0.97264011, 0.39794671],\n",
       "         [0.10979243, 0.40846177]],\n",
       "\n",
       "        [[0.5009776 , 0.51424164],\n",
       "         [0.88981407, 0.60297238],\n",
       "         [0.78653222, 0.34874448],\n",
       "         [0.14238872, 0.26522523],\n",
       "         [0.65587811, 0.95971571]],\n",
       "\n",
       "        [[0.21279817, 0.98253544],\n",
       "         [0.43463286, 0.64184336],\n",
       "         [0.94806425, 0.1125588 ],\n",
       "         [0.07573419, 0.44968268],\n",
       "         [0.96920478, 0.29136879]]],\n",
       "\n",
       "\n",
       "       [[[0.78258221, 0.23399769],\n",
       "         [0.47299626, 0.00471394],\n",
       "         [0.74674981, 0.48522302],\n",
       "         [0.30113148, 0.22589816],\n",
       "         [0.35211793, 0.43890637]],\n",
       "\n",
       "        [[0.58060824, 0.86422378],\n",
       "         [0.06805542, 0.39604015],\n",
       "         [0.36361197, 0.59155002],\n",
       "         [0.98038803, 0.12033035],\n",
       "         [0.71948448, 0.74629877]],\n",
       "\n",
       "        [[0.66927821, 0.34590151],\n",
       "         [0.55630612, 0.50860836],\n",
       "         [0.33440277, 0.19003559],\n",
       "         [0.0237059 , 0.5725831 ],\n",
       "         [0.39887557, 0.10132587]]],\n",
       "\n",
       "\n",
       "       [[[0.97448118, 0.54533265],\n",
       "         [0.67706956, 0.60985837],\n",
       "         [0.31759897, 0.05442139],\n",
       "         [0.65947597, 0.02425343],\n",
       "         [0.00882574, 0.41270885]],\n",
       "\n",
       "        [[0.07004987, 0.9882115 ],\n",
       "         [0.05948951, 0.731211  ],\n",
       "         [0.13566757, 0.73256504],\n",
       "         [0.99396139, 0.01838695],\n",
       "         [0.72589448, 0.00876578]],\n",
       "\n",
       "        [[0.14579889, 0.17584807],\n",
       "         [0.76260246, 0.92421382],\n",
       "         [0.67421614, 0.11142462],\n",
       "         [0.99410884, 0.3451163 ],\n",
       "         [0.39492634, 0.85792637]]],\n",
       "\n",
       "\n",
       "       [[[0.21170516, 0.23417306],\n",
       "         [0.6901187 , 0.47617243],\n",
       "         [0.21054966, 0.09132075],\n",
       "         [0.99978571, 0.93410215],\n",
       "         [0.10140663, 0.61110602]],\n",
       "\n",
       "        [[0.96852043, 0.8532291 ],\n",
       "         [0.54393245, 0.26405476],\n",
       "         [0.5290059 , 0.98321531],\n",
       "         [0.86948852, 0.27977743],\n",
       "         [0.40107449, 0.58772671]],\n",
       "\n",
       "        [[0.4245952 , 0.57586966],\n",
       "         [0.63373234, 0.47499329],\n",
       "         [0.06300405, 0.48498788],\n",
       "         [0.06958115, 0.48812367],\n",
       "         [0.43443778, 0.05383916]]],\n",
       "\n",
       "\n",
       "       [[[0.74472102, 0.68955683],\n",
       "         [0.57839715, 0.92801985],\n",
       "         [0.28953588, 0.65352297],\n",
       "         [0.20649045, 0.53885773],\n",
       "         [0.83392271, 0.56083953]],\n",
       "\n",
       "        [[0.00193248, 0.49944189],\n",
       "         [0.32437199, 0.78783222],\n",
       "         [0.97961337, 0.00141556],\n",
       "         [0.82280947, 0.78739997],\n",
       "         [0.53295575, 0.01334432]],\n",
       "\n",
       "        [[0.28163508, 0.92120905],\n",
       "         [0.33560634, 0.87976146],\n",
       "         [0.12173908, 0.56201266],\n",
       "         [0.05647545, 0.38464954],\n",
       "         [0.02382746, 0.12621981]]]])"
      ]
     },
     "execution_count": 47,
     "metadata": {},
     "output_type": "execute_result"
    }
   ],
   "source": [
    "x"
   ]
  },
  {
   "cell_type": "code",
   "execution_count": 48,
   "metadata": {},
   "outputs": [
    {
     "data": {
      "text/plain": [
       "array([[0.48234712, 0.36874785],\n",
       "       [0.73967619, 0.434257  ],\n",
       "       [0.14461654, 0.93370298],\n",
       "       [0.47734939, 0.51376671],\n",
       "       [0.78810801, 0.2382606 ]])"
      ]
     },
     "execution_count": 48,
     "metadata": {},
     "output_type": "execute_result"
    }
   ],
   "source": [
    "y"
   ]
  },
  {
   "cell_type": "code",
   "execution_count": 49,
   "metadata": {},
   "outputs": [
    {
     "data": {
      "text/plain": [
       "array([[[[0.82012733, 0.49083159],\n",
       "         [0.73967619, 0.52843595],\n",
       "         [0.25570276, 0.93370298],\n",
       "         [0.47734939, 0.59136691],\n",
       "         [0.93909279, 0.59769412]],\n",
       "\n",
       "        [[0.48234712, 0.97463035],\n",
       "         [0.73967619, 0.58426745],\n",
       "         [0.59685584, 0.93370298],\n",
       "         [0.52524731, 0.51376671],\n",
       "         [0.78810801, 0.44570252]],\n",
       "\n",
       "        [[0.61683564, 0.54237953],\n",
       "         [0.84970574, 0.434257  ],\n",
       "         [0.90059153, 0.93370298],\n",
       "         [0.47734939, 0.51376671],\n",
       "         [0.99243533, 0.29711721]]],\n",
       "\n",
       "\n",
       "       [[[0.97138883, 0.69208574],\n",
       "         [0.73967619, 0.94640528],\n",
       "         [0.86122983, 0.93370298],\n",
       "         [0.74979166, 0.56620671],\n",
       "         [0.78810801, 0.69398194]],\n",
       "\n",
       "        [[0.58439592, 0.53765151],\n",
       "         [0.73967619, 0.434257  ],\n",
       "         [0.71123565, 0.93370298],\n",
       "         [0.47734939, 0.62362127],\n",
       "         [0.78810801, 0.2726427 ]],\n",
       "\n",
       "        [[0.97002758, 0.36874785],\n",
       "         [0.73967619, 0.80649936],\n",
       "         [0.52119143, 0.93370298],\n",
       "         [0.47734939, 0.8742722 ],\n",
       "         [0.78810801, 0.75997111]]],\n",
       "\n",
       "\n",
       "       [[[0.48234712, 0.36874785],\n",
       "         [0.73967619, 0.61139509],\n",
       "         [0.63964827, 0.93370298],\n",
       "         [0.97700521, 0.51376671],\n",
       "         [0.78810801, 0.84138654]],\n",
       "\n",
       "        [[0.80331308, 0.36874785],\n",
       "         [0.73967619, 0.54641106],\n",
       "         [0.9341462 , 0.93370298],\n",
       "         [0.47734939, 0.74812425],\n",
       "         [0.78810801, 0.87495691]],\n",
       "\n",
       "        [[0.92169767, 0.90640425],\n",
       "         [0.9703532 , 0.434257  ],\n",
       "         [0.14461654, 0.93370298],\n",
       "         [0.77547738, 0.51376671],\n",
       "         [0.78810801, 0.2382606 ]]],\n",
       "\n",
       "\n",
       "       [[[0.84908378, 0.51694806],\n",
       "         [0.73967619, 0.89675829],\n",
       "         [0.52995535, 0.93370298],\n",
       "         [0.97264011, 0.51376671],\n",
       "         [0.78810801, 0.40846177]],\n",
       "\n",
       "        [[0.5009776 , 0.51424164],\n",
       "         [0.88981407, 0.60297238],\n",
       "         [0.78653222, 0.93370298],\n",
       "         [0.47734939, 0.51376671],\n",
       "         [0.78810801, 0.95971571]],\n",
       "\n",
       "        [[0.48234712, 0.98253544],\n",
       "         [0.73967619, 0.64184336],\n",
       "         [0.94806425, 0.93370298],\n",
       "         [0.47734939, 0.51376671],\n",
       "         [0.96920478, 0.29136879]]],\n",
       "\n",
       "\n",
       "       [[[0.78258221, 0.36874785],\n",
       "         [0.73967619, 0.434257  ],\n",
       "         [0.74674981, 0.93370298],\n",
       "         [0.47734939, 0.51376671],\n",
       "         [0.78810801, 0.43890637]],\n",
       "\n",
       "        [[0.58060824, 0.86422378],\n",
       "         [0.73967619, 0.434257  ],\n",
       "         [0.36361197, 0.93370298],\n",
       "         [0.98038803, 0.51376671],\n",
       "         [0.78810801, 0.74629877]],\n",
       "\n",
       "        [[0.66927821, 0.36874785],\n",
       "         [0.73967619, 0.50860836],\n",
       "         [0.33440277, 0.93370298],\n",
       "         [0.47734939, 0.5725831 ],\n",
       "         [0.78810801, 0.2382606 ]]],\n",
       "\n",
       "\n",
       "       [[[0.97448118, 0.54533265],\n",
       "         [0.73967619, 0.60985837],\n",
       "         [0.31759897, 0.93370298],\n",
       "         [0.65947597, 0.51376671],\n",
       "         [0.78810801, 0.41270885]],\n",
       "\n",
       "        [[0.48234712, 0.9882115 ],\n",
       "         [0.73967619, 0.731211  ],\n",
       "         [0.14461654, 0.93370298],\n",
       "         [0.99396139, 0.51376671],\n",
       "         [0.78810801, 0.2382606 ]],\n",
       "\n",
       "        [[0.48234712, 0.36874785],\n",
       "         [0.76260246, 0.92421382],\n",
       "         [0.67421614, 0.93370298],\n",
       "         [0.99410884, 0.51376671],\n",
       "         [0.78810801, 0.85792637]]],\n",
       "\n",
       "\n",
       "       [[[0.48234712, 0.36874785],\n",
       "         [0.73967619, 0.47617243],\n",
       "         [0.21054966, 0.93370298],\n",
       "         [0.99978571, 0.93410215],\n",
       "         [0.78810801, 0.61110602]],\n",
       "\n",
       "        [[0.96852043, 0.8532291 ],\n",
       "         [0.73967619, 0.434257  ],\n",
       "         [0.5290059 , 0.98321531],\n",
       "         [0.86948852, 0.51376671],\n",
       "         [0.78810801, 0.58772671]],\n",
       "\n",
       "        [[0.48234712, 0.57586966],\n",
       "         [0.73967619, 0.47499329],\n",
       "         [0.14461654, 0.93370298],\n",
       "         [0.47734939, 0.51376671],\n",
       "         [0.78810801, 0.2382606 ]]],\n",
       "\n",
       "\n",
       "       [[[0.74472102, 0.68955683],\n",
       "         [0.73967619, 0.92801985],\n",
       "         [0.28953588, 0.93370298],\n",
       "         [0.47734939, 0.53885773],\n",
       "         [0.83392271, 0.56083953]],\n",
       "\n",
       "        [[0.48234712, 0.49944189],\n",
       "         [0.73967619, 0.78783222],\n",
       "         [0.97961337, 0.93370298],\n",
       "         [0.82280947, 0.78739997],\n",
       "         [0.78810801, 0.2382606 ]],\n",
       "\n",
       "        [[0.48234712, 0.92120905],\n",
       "         [0.73967619, 0.87976146],\n",
       "         [0.14461654, 0.93370298],\n",
       "         [0.47734939, 0.51376671],\n",
       "         [0.78810801, 0.2382606 ]]]])"
      ]
     },
     "execution_count": 49,
     "metadata": {},
     "output_type": "execute_result"
    }
   ],
   "source": [
    "z = np.maximum(x, y)\n",
    "z"
   ]
  },
  {
   "cell_type": "markdown",
   "metadata": {},
   "source": [
    "### 2.3.3 Tensor dot"
   ]
  },
  {
   "cell_type": "markdown",
   "metadata": {},
   "source": [
    "* The most common is the dot product between two matrices. You can take the dot product of two matrices ***x*** and  ***y*** (dot(x,y)) if and only if x.shape[1] == y.shape[0].\n",
    "* The result is a matrix with shape (x.shape[0], y.shape[1]), where the coefficients are the vector products between the rows of ***x*** and the columns of ***y***."
   ]
  },
  {
   "cell_type": "markdown",
   "metadata": {},
   "source": [
    "### 2.3.4 Tensor reshaping"
   ]
  },
  {
   "cell_type": "markdown",
   "metadata": {},
   "source": [
    "Reshaping a tensor means rearranging its rows and columns to match a target shape"
   ]
  },
  {
   "cell_type": "code",
   "execution_count": 50,
   "metadata": {},
   "outputs": [
    {
     "data": {
      "text/plain": [
       "array([[0., 1.],\n",
       "       [2., 3.],\n",
       "       [4., 5.]])"
      ]
     },
     "execution_count": 50,
     "metadata": {},
     "output_type": "execute_result"
    }
   ],
   "source": [
    "x = np.array([[0., 1.],\n",
    "              [2., 3.],\n",
    "              [4., 5.]])\n",
    "x"
   ]
  },
  {
   "cell_type": "code",
   "execution_count": 51,
   "metadata": {},
   "outputs": [
    {
     "data": {
      "text/plain": [
       "(3, 2)"
      ]
     },
     "execution_count": 51,
     "metadata": {},
     "output_type": "execute_result"
    }
   ],
   "source": [
    "x.shape"
   ]
  },
  {
   "cell_type": "code",
   "execution_count": 52,
   "metadata": {},
   "outputs": [],
   "source": [
    "x = x.reshape(6,1)"
   ]
  },
  {
   "cell_type": "code",
   "execution_count": 53,
   "metadata": {},
   "outputs": [
    {
     "data": {
      "text/plain": [
       "array([[0.],\n",
       "       [1.],\n",
       "       [2.],\n",
       "       [3.],\n",
       "       [4.],\n",
       "       [5.]])"
      ]
     },
     "execution_count": 53,
     "metadata": {},
     "output_type": "execute_result"
    }
   ],
   "source": [
    "x"
   ]
  },
  {
   "cell_type": "code",
   "execution_count": 54,
   "metadata": {},
   "outputs": [
    {
     "data": {
      "text/plain": [
       "array([[0., 1., 2.],\n",
       "       [3., 4., 5.]])"
      ]
     },
     "execution_count": 54,
     "metadata": {},
     "output_type": "execute_result"
    }
   ],
   "source": [
    "x = x.reshape(2, 3)\n",
    "x"
   ]
  },
  {
   "cell_type": "markdown",
   "metadata": {},
   "source": [
    "* A special case of reshaping that's commonly encountered is ***transposition***. ***Transposing*** a matrix means exchanging its rows and its columns, so that x[i, :] becomes x[:, i]"
   ]
  },
  {
   "cell_type": "code",
   "execution_count": 55,
   "metadata": {},
   "outputs": [
    {
     "data": {
      "text/plain": [
       "(300, 20)"
      ]
     },
     "execution_count": 55,
     "metadata": {},
     "output_type": "execute_result"
    }
   ],
   "source": [
    "x = np.zeros((300, 20))\n",
    "x.shape"
   ]
  },
  {
   "cell_type": "code",
   "execution_count": 56,
   "metadata": {},
   "outputs": [
    {
     "data": {
      "text/plain": [
       "(20, 300)"
      ]
     },
     "execution_count": 56,
     "metadata": {},
     "output_type": "execute_result"
    }
   ],
   "source": [
    "x = np.transpose(x)\n",
    "x.shape"
   ]
  },
  {
   "cell_type": "markdown",
   "metadata": {},
   "source": [
    "## 2.4 The engine of neural networks: gradient-based optimization"
   ]
  },
  {
   "cell_type": "markdown",
   "metadata": {},
   "source": [
    "### 2.4.1 What's a derivative?"
   ]
  },
  {
   "cell_type": "markdown",
   "metadata": {},
   "source": [
    "For every differentiable function **f(x)**, there exists a derivative function **f'(x)** that maps values of **x** to the slope of the local linear approximation of *f* in those points."
   ]
  },
  {
   "cell_type": "markdown",
   "metadata": {},
   "source": [
    "* **differentiable** means \"can be derived\"\n",
    "  + for example, smooth, continous functions can be derived\n",
    "* The slope **a** is called the *derivative* of *f*.\n",
    "  + If **a** is negative, it means a small change of x will result in a decrease of f(x)\n",
    "  + If **a** is positive, a small change in x will result in an increase."
   ]
  },
  {
   "cell_type": "markdown",
   "metadata": {},
   "source": [
    "### 2.4.2 Derivative of a tensor operation: the gradient"
   ]
  },
  {
   "cell_type": "markdown",
   "metadata": {},
   "source": [
    "* A **gradient** is the derivative of a tensor operation."
   ]
  },
  {
   "cell_type": "markdown",
   "metadata": {},
   "source": [
    "### 2.4.3 Stochastic gradient descent"
   ]
  },
  {
   "cell_type": "markdown",
   "metadata": {},
   "source": [
    "* the term ***stochastic*** refers to the fact that each batch of data is drawn at random"
   ]
  },
  {
   "cell_type": "markdown",
   "metadata": {},
   "source": [
    "* ***mini-batch stochastic gradient descent***\n",
    "  1. Draw a batch of training samples x and corresponding targets y.\n",
    "  2. Run the network on x to obtain prediction y_pred.\n",
    "  3. Compute the loss of the network on the batch, a measure of the mismatch between y_pred and y.\n",
    "  4. Compute the gradient of the loss with regard to the network's parameters.\n",
    "  5. Move the parameters a little in the opposite direction from the gradient, thus reducing the loss on the batch a bit."
   ]
  },
  {
   "cell_type": "markdown",
   "metadata": {},
   "source": [
    "### 2.4.4 Chaining derivatives: the Backpropagation algorithm"
   ]
  },
  {
   "cell_type": "markdown",
   "metadata": {},
   "source": [
    "* ***Backpropagation*** strats with the final loss value and works backward from the top layers to the bottom layers, applying the chain rule to compute the contribution that each parameter had in the loss value."
   ]
  },
  {
   "cell_type": "markdown",
   "metadata": {},
   "source": [
    "## 2.5 Looking back at our first example"
   ]
  },
  {
   "cell_type": "markdown",
   "metadata": {},
   "source": [
    "* input data"
   ]
  },
  {
   "cell_type": "code",
   "execution_count": 57,
   "metadata": {},
   "outputs": [],
   "source": [
    "from keras.datasets import mnist"
   ]
  },
  {
   "cell_type": "code",
   "execution_count": 58,
   "metadata": {},
   "outputs": [],
   "source": [
    "(train_images, train_labels), (test_images, test_labels) = mnist.load_data()"
   ]
  },
  {
   "cell_type": "code",
   "execution_count": 59,
   "metadata": {},
   "outputs": [],
   "source": [
    "train_images = train_images.reshape((60000, 28 * 28))\n",
    "train_images = train_images.astype('float32')/255\n",
    "\n",
    "test_images = test_images.reshape((10000, 28 * 28))\n",
    "test_images = test_images.astype('float32')/255"
   ]
  },
  {
   "cell_type": "code",
   "execution_count": 60,
   "metadata": {},
   "outputs": [
    {
     "name": "stdout",
     "output_type": "stream",
     "text": [
      "float32\n",
      "(60000, 784)\n",
      "float32\n",
      "(10000, 784)\n"
     ]
    }
   ],
   "source": [
    "print(train_images.dtype)\n",
    "print(train_images.shape)\n",
    "\n",
    "print(test_images.dtype)\n",
    "print(test_images.shape)"
   ]
  },
  {
   "cell_type": "markdown",
   "metadata": {},
   "source": [
    "> the input images are stored in Numpy tensors, formatted as *float32* tensors of shape (60000, 784) and (10000, 784) respectively."
   ]
  },
  {
   "cell_type": "code",
   "execution_count": 68,
   "metadata": {},
   "outputs": [],
   "source": [
    "from keras.utils import to_categorical\n",
    "train_labels = to_categorical(train_labels)\n",
    "test_labels = to_categorical(test_labels)"
   ]
  },
  {
   "cell_type": "markdown",
   "metadata": {},
   "source": [
    "* network"
   ]
  },
  {
   "cell_type": "code",
   "execution_count": 62,
   "metadata": {},
   "outputs": [],
   "source": [
    "from keras.models import Sequential\n",
    "from keras.layers import Dense, Activation"
   ]
  },
  {
   "cell_type": "code",
   "execution_count": 63,
   "metadata": {},
   "outputs": [],
   "source": [
    "network = Sequential()\n",
    "network.add(Dense(512, activation = 'relu', input_shape = (28 * 28,)))\n",
    "network.add(Dense(10, activation = 'softmax'))"
   ]
  },
  {
   "cell_type": "markdown",
   "metadata": {},
   "source": [
    "* network-compilation step"
   ]
  },
  {
   "cell_type": "code",
   "execution_count": 64,
   "metadata": {},
   "outputs": [],
   "source": [
    "network.compile(optimizer = 'rmsprop',\n",
    "                loss = 'categorical_crossentropy',\n",
    "                metrics = ['accuracy'])"
   ]
  },
  {
   "cell_type": "markdown",
   "metadata": {},
   "source": [
    "* training loop"
   ]
  },
  {
   "cell_type": "code",
   "execution_count": 65,
   "metadata": {},
   "outputs": [
    {
     "name": "stdout",
     "output_type": "stream",
     "text": [
      "Epoch 1/5\n",
      "60000/60000 [==============================] - 8s 131us/step - loss: 0.2570 - acc: 0.9257\n",
      "Epoch 2/5\n",
      "60000/60000 [==============================] - 7s 122us/step - loss: 0.1020 - acc: 0.9699\n",
      "Epoch 3/5\n",
      "60000/60000 [==============================] - 7s 125us/step - loss: 0.0677 - acc: 0.9794\n",
      "Epoch 4/5\n",
      "60000/60000 [==============================] - 7s 120us/step - loss: 0.0489 - acc: 0.9852\n",
      "Epoch 5/5\n",
      "60000/60000 [==============================] - 8s 126us/step - loss: 0.0364 - acc: 0.9894 1s -\n"
     ]
    },
    {
     "data": {
      "text/plain": [
       "<keras.callbacks.History at 0x1dcc130af98>"
      ]
     },
     "execution_count": 65,
     "metadata": {},
     "output_type": "execute_result"
    }
   ],
   "source": [
    "network.fit(train_images, train_labels, epochs = 5, batch_size = 128)"
   ]
  },
  {
   "cell_type": "markdown",
   "metadata": {},
   "source": [
    "* accuracy"
   ]
  },
  {
   "cell_type": "code",
   "execution_count": 69,
   "metadata": {},
   "outputs": [
    {
     "name": "stdout",
     "output_type": "stream",
     "text": [
      "10000/10000 [==============================] - 1s 100us/step\n"
     ]
    }
   ],
   "source": [
    "test_loss, test_acc = network.evaluate(test_images, test_labels)"
   ]
  },
  {
   "cell_type": "code",
   "execution_count": 70,
   "metadata": {},
   "outputs": [
    {
     "name": "stdout",
     "output_type": "stream",
     "text": [
      "test_accuracy: 0.9784\n"
     ]
    }
   ],
   "source": [
    "print('test_accuracy:', test_acc)"
   ]
  },
  {
   "cell_type": "code",
   "execution_count": null,
   "metadata": {},
   "outputs": [],
   "source": []
  }
 ],
 "metadata": {
  "kernelspec": {
   "display_name": "Python 3",
   "language": "python",
   "name": "python3"
  },
  "language_info": {
   "codemirror_mode": {
    "name": "ipython",
    "version": 3
   },
   "file_extension": ".py",
   "mimetype": "text/x-python",
   "name": "python",
   "nbconvert_exporter": "python",
   "pygments_lexer": "ipython3",
   "version": "3.6.7"
  }
 },
 "nbformat": 4,
 "nbformat_minor": 2
}
