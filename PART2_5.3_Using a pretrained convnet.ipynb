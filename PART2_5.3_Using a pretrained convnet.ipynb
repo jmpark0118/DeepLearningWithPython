{
  "nbformat": 4,
  "nbformat_minor": 0,
  "metadata": {
    "kernelspec": {
      "display_name": "Python 3",
      "language": "python",
      "name": "python3"
    },
    "language_info": {
      "codemirror_mode": {
        "name": "ipython",
        "version": 3
      },
      "file_extension": ".py",
      "mimetype": "text/x-python",
      "name": "python",
      "nbconvert_exporter": "python",
      "pygments_lexer": "ipython3",
      "version": "3.6.7"
    },
    "colab": {
      "name": "PART2_5.3_Using a pretrained convnet.ipynb",
      "provenance": [],
      "collapsed_sections": []
    },
    "accelerator": "GPU"
  },
  "cells": [
    {
      "cell_type": "markdown",
      "metadata": {
        "id": "jI69SC-p2GUl",
        "colab_type": "text"
      },
      "source": [
        "# Chapter5 : Deep learning for computer vision"
      ]
    },
    {
      "cell_type": "markdown",
      "metadata": {
        "id": "gL5TZGmb2GUm",
        "colab_type": "text"
      },
      "source": [
        "## 5.3 Using a pretained convnet"
      ]
    },
    {
      "cell_type": "markdown",
      "metadata": {
        "id": "tlrRLXk-2GUn",
        "colab_type": "text"
      },
      "source": [
        "A common and highly effective approach to deep learning on small image datasets is to use a pretrained network. A *pretrained network* is a saved network that was previously trained on a large dataset, typically on a large-scale image-classification task.\n",
        "\n",
        "If the original dataset is large enough and general enough, then the spacial hierarchy of features learned by the pretrained network can effectively act as a generic model, and hence its features can prove useful for even new problems that may involve completely different classes than those of the original task.\n",
        "\n",
        "Such portability of learned features across different problems is a key advantage of deep learning compared to many older, shallow-learning approaches, and it makes deep learning very effective for small-data problems.\n",
        "\n",
        "There are two ways to use a pretrained network: ***feature extraction*** and ***fine-tuning***."
      ]
    },
    {
      "cell_type": "markdown",
      "metadata": {
        "id": "PElvzVmS2GUo",
        "colab_type": "text"
      },
      "source": [
        "### 5.3.1 Feature extraction"
      ]
    },
    {
      "cell_type": "markdown",
      "metadata": {
        "id": "9sQXX-Vn2GUo",
        "colab_type": "text"
      },
      "source": [
        "Feature extraction consists of using the representations learned by a previous network to extract interesting features from new samples. These features are then run through a new classifier, which is trained from scratch.\n",
        "\n",
        "Convnets used for image classification comprise two parts: they start with a series of pooling and convolution layers, and they end with a densely connected classifier. The first part is called the ***convolutional base*** of the model.\n",
        "\n",
        "In the case of convnets, feature extraction consists of taking the convolutional base of a previously trained network, running the new data through it, and training a new classifier on top of the output."
      ]
    },
    {
      "cell_type": "markdown",
      "metadata": {
        "id": "flSBRAip2GUp",
        "colab_type": "text"
      },
      "source": [
        "**But why only reuse the convolutional base and not the densely connected classifier as well?**\n",
        "\n",
        "The reason is that the representations learned by the convolutional base are likely to be more generic and therefore more reuseable. The representations learned by the classifier will necessarily be specific to the set of classes on which the model was trained. Additionally, representations found in densely connected layers no longe contain any information about *where* objects are located in the input image.\n",
        "\n",
        "Note that the level of generality of the representations extracted by specific convolution layers depends on the depth of the layer in the model.\n",
        "  + Layers that come earlier in the model extract local, highly generic feature maps (eg. visual edges, colors, textures)\n",
        "  + Layers that are higher up extract more-abstract concepts (eg. cat ear, dog eye)"
      ]
    },
    {
      "cell_type": "markdown",
      "metadata": {
        "id": "iZJXo0H52GUq",
        "colab_type": "text"
      },
      "source": [
        "The following is the list of image-classification models (all pretrained on the ImageNet dataset) that are available as part of **keras.applications**:\n",
        "  + Xception\n",
        "  + Inception V3\n",
        "  + ResNet50\n",
        "  + VGG16\n",
        "  + VGG19\n",
        "  + MobileNet"
      ]
    },
    {
      "cell_type": "markdown",
      "metadata": {
        "id": "kpn7B_8y2GUq",
        "colab_type": "text"
      },
      "source": [
        "#### Instantiating the VGG16 convolutional base"
      ]
    },
    {
      "cell_type": "code",
      "metadata": {
        "id": "A2y9Th5A2GUr",
        "colab_type": "code",
        "outputId": "f0ccee50-0a2b-4d28-8047-53af3b69d586",
        "colab": {
          "base_uri": "https://localhost:8080/",
          "height": 34
        }
      },
      "source": [
        "from keras.applications import VGG16"
      ],
      "execution_count": 2,
      "outputs": [
        {
          "output_type": "stream",
          "text": [
            "Using TensorFlow backend.\n"
          ],
          "name": "stderr"
        }
      ]
    },
    {
      "cell_type": "code",
      "metadata": {
        "id": "JWshsQeK2GVN",
        "colab_type": "code",
        "colab": {}
      },
      "source": [
        "conv_base = VGG16(weights = 'imagenet',\n",
        "                  include_top = False,   # refers to including the densely connected classifier \n",
        "                                          # on top of the network\n",
        "                  input_shape = (150,150,3))"
      ],
      "execution_count": 0,
      "outputs": []
    },
    {
      "cell_type": "code",
      "metadata": {
        "id": "sXZqlvSw2GVQ",
        "colab_type": "code",
        "outputId": "94562af7-ecc2-4353-b36c-09b64635f745",
        "colab": {
          "base_uri": "https://localhost:8080/",
          "height": 790
        }
      },
      "source": [
        "conv_base.summary()"
      ],
      "execution_count": 4,
      "outputs": [
        {
          "output_type": "stream",
          "text": [
            "Model: \"vgg16\"\n",
            "_________________________________________________________________\n",
            "Layer (type)                 Output Shape              Param #   \n",
            "=================================================================\n",
            "input_1 (InputLayer)         (None, 150, 150, 3)       0         \n",
            "_________________________________________________________________\n",
            "block1_conv1 (Conv2D)        (None, 150, 150, 64)      1792      \n",
            "_________________________________________________________________\n",
            "block1_conv2 (Conv2D)        (None, 150, 150, 64)      36928     \n",
            "_________________________________________________________________\n",
            "block1_pool (MaxPooling2D)   (None, 75, 75, 64)        0         \n",
            "_________________________________________________________________\n",
            "block2_conv1 (Conv2D)        (None, 75, 75, 128)       73856     \n",
            "_________________________________________________________________\n",
            "block2_conv2 (Conv2D)        (None, 75, 75, 128)       147584    \n",
            "_________________________________________________________________\n",
            "block2_pool (MaxPooling2D)   (None, 37, 37, 128)       0         \n",
            "_________________________________________________________________\n",
            "block3_conv1 (Conv2D)        (None, 37, 37, 256)       295168    \n",
            "_________________________________________________________________\n",
            "block3_conv2 (Conv2D)        (None, 37, 37, 256)       590080    \n",
            "_________________________________________________________________\n",
            "block3_conv3 (Conv2D)        (None, 37, 37, 256)       590080    \n",
            "_________________________________________________________________\n",
            "block3_pool (MaxPooling2D)   (None, 18, 18, 256)       0         \n",
            "_________________________________________________________________\n",
            "block4_conv1 (Conv2D)        (None, 18, 18, 512)       1180160   \n",
            "_________________________________________________________________\n",
            "block4_conv2 (Conv2D)        (None, 18, 18, 512)       2359808   \n",
            "_________________________________________________________________\n",
            "block4_conv3 (Conv2D)        (None, 18, 18, 512)       2359808   \n",
            "_________________________________________________________________\n",
            "block4_pool (MaxPooling2D)   (None, 9, 9, 512)         0         \n",
            "_________________________________________________________________\n",
            "block5_conv1 (Conv2D)        (None, 9, 9, 512)         2359808   \n",
            "_________________________________________________________________\n",
            "block5_conv2 (Conv2D)        (None, 9, 9, 512)         2359808   \n",
            "_________________________________________________________________\n",
            "block5_conv3 (Conv2D)        (None, 9, 9, 512)         2359808   \n",
            "_________________________________________________________________\n",
            "block5_pool (MaxPooling2D)   (None, 4, 4, 512)         0         \n",
            "=================================================================\n",
            "Total params: 14,714,688\n",
            "Trainable params: 14,714,688\n",
            "Non-trainable params: 0\n",
            "_________________________________________________________________\n"
          ],
          "name": "stdout"
        }
      ]
    },
    {
      "cell_type": "markdown",
      "metadata": {
        "id": "8VOkVAUS2GVS",
        "colab_type": "text"
      },
      "source": [
        "The final feature map has shape (4,4,512). At this point, there are two ways you could proceed:\n",
        "  + Running the convolutional base over your dataset, recording its output to a Numpy array on disk, and then using this data as input to a standalone, densely connected classifier.\n",
        "    - fast and cheap to run\n",
        "    - data augmentation is not allowed\n",
        "  + Extending the model you have by adding Dense layers on top, and running the whole thing end to end on the input data.\n",
        "    - data augmentation is allowed\n",
        "    - far more expensive"
      ]
    },
    {
      "cell_type": "markdown",
      "metadata": {
        "id": "w2c2vKa42GVT",
        "colab_type": "text"
      },
      "source": [
        "#### FAST FEATURE EXTRACTION WITHOUT DATA AUGMENTATION"
      ]
    },
    {
      "cell_type": "markdown",
      "metadata": {
        "id": "e2cYPnaH2GVT",
        "colab_type": "text"
      },
      "source": [
        "#### Extracting features using the pretrained convolutional base"
      ]
    },
    {
      "cell_type": "code",
      "metadata": {
        "id": "ZFkKU38f2GVU",
        "colab_type": "code",
        "colab": {}
      },
      "source": [
        "import os\n",
        "import numpy as np\n",
        "from keras.preprocessing.image import ImageDataGenerator"
      ],
      "execution_count": 0,
      "outputs": []
    },
    {
      "cell_type": "code",
      "metadata": {
        "id": "J2vksOcy3gII",
        "colab_type": "code",
        "outputId": "2e4c84b7-d453-480e-c7d6-4c86cea6424c",
        "colab": {
          "base_uri": "https://localhost:8080/",
          "height": 34
        }
      },
      "source": [
        "from google.colab import drive\n",
        "drive.mount('/content/gdrive')"
      ],
      "execution_count": 6,
      "outputs": [
        {
          "output_type": "stream",
          "text": [
            "Drive already mounted at /content/gdrive; to attempt to forcibly remount, call drive.mount(\"/content/gdrive\", force_remount=True).\n"
          ],
          "name": "stdout"
        }
      ]
    },
    {
      "cell_type": "code",
      "metadata": {
        "id": "l9SOqywM2GVW",
        "colab_type": "code",
        "colab": {}
      },
      "source": [
        "base_dir = '/content/gdrive/My Drive/github/cats_and_dogs_small'\n",
        "train_dir = os.path.join(base_dir, 'train')\n",
        "validation_dir = os.path.join(base_dir, 'validation')\n",
        "test_dir = os.path.join(base_dir, 'test')"
      ],
      "execution_count": 0,
      "outputs": []
    },
    {
      "cell_type": "code",
      "metadata": {
        "id": "rBJ8l4NT2GVY",
        "colab_type": "code",
        "colab": {}
      },
      "source": [
        "datagen = ImageDataGenerator(rescale = 1./255)\n",
        "batch_size = 20"
      ],
      "execution_count": 0,
      "outputs": []
    },
    {
      "cell_type": "code",
      "metadata": {
        "id": "xiI0wuo72GVb",
        "colab_type": "code",
        "colab": {}
      },
      "source": [
        "def extract_features(directory, sample_count):\n",
        "    features = np.zeros(shape = (sample_count, 4, 4, 512))\n",
        "    labels = np.zeros(shape = (sample_count))\n",
        "    generator = datagen.flow_from_directory(\n",
        "         directory,\n",
        "         target_size = (150,150),\n",
        "         batch_size = batch_size,\n",
        "         class_mode = 'binary')\n",
        "    i = 0\n",
        "    for inputs_batch, labels_batch in generator:\n",
        "        features_batch = conv_base.predict(inputs_batch)\n",
        "        features[i*batch_size : (i+1)*batch_size] = features_batch\n",
        "        labels[i*batch_size : (i+1)*batch_size] = labels_batch\n",
        "        i += 1\n",
        "        if i*batch_size >= sample_count:\n",
        "            break   # generators yield data indefinitely in a loop\n",
        "    return features, labels"
      ],
      "execution_count": 0,
      "outputs": []
    },
    {
      "cell_type": "code",
      "metadata": {
        "id": "ShTw5-dk2GVd",
        "colab_type": "code",
        "outputId": "9b33985d-7eb7-4492-df99-75bdaf0eb57a",
        "colab": {
          "base_uri": "https://localhost:8080/",
          "height": 67
        }
      },
      "source": [
        "train_features, train_labels = extract_features(train_dir, 2000)\n",
        "validation_features, validation_labels = extract_features(validation_dir, 1000)\n",
        "test_features, test_labels = extract_features(test_dir, 1000)"
      ],
      "execution_count": 10,
      "outputs": [
        {
          "output_type": "stream",
          "text": [
            "Found 2000 images belonging to 2 classes.\n",
            "Found 1000 images belonging to 2 classes.\n",
            "Found 1000 images belonging to 2 classes.\n"
          ],
          "name": "stdout"
        }
      ]
    },
    {
      "cell_type": "code",
      "metadata": {
        "id": "kxFYCPl32GVf",
        "colab_type": "code",
        "colab": {}
      },
      "source": [
        "train_features = np.reshape(train_features, (2000, 4*4*512))\n",
        "validation_features = np.reshape(validation_features, (1000, 4*4*512))\n",
        "test_features = np.reshape(test_features, (1000, 4*4*512))"
      ],
      "execution_count": 0,
      "outputs": []
    },
    {
      "cell_type": "markdown",
      "metadata": {
        "id": "2ewdV6oi2GVi",
        "colab_type": "text"
      },
      "source": [
        "#### Defining and training the densely connected classifier"
      ]
    },
    {
      "cell_type": "code",
      "metadata": {
        "id": "gNYKGcFe2GVi",
        "colab_type": "code",
        "colab": {}
      },
      "source": [
        "from keras import models\n",
        "from keras import layers, optimizers"
      ],
      "execution_count": 0,
      "outputs": []
    },
    {
      "cell_type": "code",
      "metadata": {
        "id": "zeFWnvTd2GVl",
        "colab_type": "code",
        "colab": {}
      },
      "source": [
        "model = models.Sequential()\n",
        "\n",
        "model.add(layers.Dense(256, activation = 'relu', input_dim = 4*4*512))\n",
        "model.add(layers.Dropout(0.5))\n",
        "model.add(layers.Dense(1, activation = 'sigmoid'))\n",
        "\n",
        "model.compile(optimizer = optimizers.RMSprop(lr = 2e-5),\n",
        "              loss = 'binary_crossentropy',\n",
        "              metrics = ['acc'])"
      ],
      "execution_count": 0,
      "outputs": []
    },
    {
      "cell_type": "code",
      "metadata": {
        "id": "q8YUmCmS2GVn",
        "colab_type": "code",
        "outputId": "89fbf095-a288-4b62-a2f7-a2f1af29fbab",
        "colab": {
          "base_uri": "https://localhost:8080/",
          "height": 706
        }
      },
      "source": [
        "history = model.fit(train_features, train_labels,\n",
        "                    epochs = 20,\n",
        "                    batch_size = 20,\n",
        "                    validation_data = (validation_features, validation_labels),\n",
        "                    verbose = 2)"
      ],
      "execution_count": 14,
      "outputs": [
        {
          "output_type": "stream",
          "text": [
            "Train on 2000 samples, validate on 1000 samples\n",
            "Epoch 1/20\n",
            " - 1s - loss: 0.5503 - acc: 0.7250 - val_loss: 0.4345 - val_acc: 0.8280\n",
            "Epoch 2/20\n",
            " - 0s - loss: 0.4144 - acc: 0.8120 - val_loss: 0.3599 - val_acc: 0.8600\n",
            "Epoch 3/20\n",
            " - 1s - loss: 0.3504 - acc: 0.8500 - val_loss: 0.3230 - val_acc: 0.8780\n",
            "Epoch 4/20\n",
            " - 1s - loss: 0.3101 - acc: 0.8770 - val_loss: 0.3088 - val_acc: 0.8740\n",
            "Epoch 5/20\n",
            " - 0s - loss: 0.2788 - acc: 0.8845 - val_loss: 0.2867 - val_acc: 0.8880\n",
            "Epoch 6/20\n",
            " - 1s - loss: 0.2600 - acc: 0.8970 - val_loss: 0.2808 - val_acc: 0.8830\n",
            "Epoch 7/20\n",
            " - 0s - loss: 0.2460 - acc: 0.9090 - val_loss: 0.2693 - val_acc: 0.8970\n",
            "Epoch 8/20\n",
            " - 1s - loss: 0.2350 - acc: 0.9145 - val_loss: 0.2634 - val_acc: 0.8990\n",
            "Epoch 9/20\n",
            " - 0s - loss: 0.2180 - acc: 0.9190 - val_loss: 0.2676 - val_acc: 0.8910\n",
            "Epoch 10/20\n",
            " - 1s - loss: 0.2067 - acc: 0.9145 - val_loss: 0.2622 - val_acc: 0.8950\n",
            "Epoch 11/20\n",
            " - 0s - loss: 0.1868 - acc: 0.9355 - val_loss: 0.2608 - val_acc: 0.8930\n",
            "Epoch 12/20\n",
            " - 1s - loss: 0.1840 - acc: 0.9250 - val_loss: 0.2505 - val_acc: 0.9050\n",
            "Epoch 13/20\n",
            " - 0s - loss: 0.1764 - acc: 0.9360 - val_loss: 0.2497 - val_acc: 0.9040\n",
            "Epoch 14/20\n",
            " - 1s - loss: 0.1704 - acc: 0.9395 - val_loss: 0.2562 - val_acc: 0.8920\n",
            "Epoch 15/20\n",
            " - 1s - loss: 0.1648 - acc: 0.9410 - val_loss: 0.2495 - val_acc: 0.9010\n",
            "Epoch 16/20\n",
            " - 1s - loss: 0.1559 - acc: 0.9395 - val_loss: 0.2534 - val_acc: 0.8980\n",
            "Epoch 17/20\n",
            " - 1s - loss: 0.1476 - acc: 0.9495 - val_loss: 0.2510 - val_acc: 0.8970\n",
            "Epoch 18/20\n",
            " - 0s - loss: 0.1366 - acc: 0.9565 - val_loss: 0.2441 - val_acc: 0.9010\n",
            "Epoch 19/20\n",
            " - 0s - loss: 0.1413 - acc: 0.9500 - val_loss: 0.2445 - val_acc: 0.9010\n",
            "Epoch 20/20\n",
            " - 1s - loss: 0.1340 - acc: 0.9565 - val_loss: 0.2440 - val_acc: 0.9030\n"
          ],
          "name": "stdout"
        }
      ]
    },
    {
      "cell_type": "markdown",
      "metadata": {
        "id": "d6AGCEtn2GVp",
        "colab_type": "text"
      },
      "source": [
        "#### Plotting the results"
      ]
    },
    {
      "cell_type": "code",
      "metadata": {
        "id": "LcvkvIpA2GVp",
        "colab_type": "code",
        "colab": {}
      },
      "source": [
        "import matplotlib.pyplot as plt"
      ],
      "execution_count": 0,
      "outputs": []
    },
    {
      "cell_type": "code",
      "metadata": {
        "id": "zbl-jg4h2GVr",
        "colab_type": "code",
        "colab": {}
      },
      "source": [
        "acc = history.history['acc']\n",
        "val_acc = history.history['val_acc']\n",
        "loss = history.history['loss']\n",
        "val_loss = history.history['val_loss']\n",
        "\n",
        "epochs = range(1, len(acc)+1)"
      ],
      "execution_count": 0,
      "outputs": []
    },
    {
      "cell_type": "code",
      "metadata": {
        "id": "cmgpjFn52GVt",
        "colab_type": "code",
        "outputId": "733f46e2-24e3-41c0-abfb-cbc964219d49",
        "colab": {
          "base_uri": "https://localhost:8080/",
          "height": 573
        }
      },
      "source": [
        "plt.plot(epochs, acc, 'r', label = 'Training acc')\n",
        "plt.plot(epochs, val_acc, 'b', label = 'Validation acc')\n",
        "plt.title('Training and validation accuracy')\n",
        "plt.xlabel('Epochs')\n",
        "plt.ylabel('Accuracy')\n",
        "plt.legend()\n",
        "plt.show()\n",
        "\n",
        "plt.figure()\n",
        "plt.plot(epochs, loss, 'r', label = 'Training loss')\n",
        "plt.plot(epochs, val_loss, 'b', label = 'Validation loss')\n",
        "plt.title('Training and validation loss')\n",
        "plt.xlabel('Epochs')\n",
        "plt.ylabel('Loss')\n",
        "plt.legend()\n",
        "plt.show()"
      ],
      "execution_count": 17,
      "outputs": [
        {
          "output_type": "display_data",
          "data": {
            "image/png": "[encoded data removed]",
            "text/plain": [
              "<Figure size 432x288 with 1 Axes>"
            ]
          },
          "metadata": {
            "tags": [],
            "needs_background": "light"
          }
        },
        {
          "output_type": "display_data",
          "data": {
            "image/png": "[encoded data removed]",
            "text/plain": [
              "<Figure size 432x288 with 1 Axes>"
            ]
          },
          "metadata": {
            "tags": [],
            "needs_background": "light"
          }
        }
      ]
    },
    {
      "cell_type": "markdown",
      "metadata": {
        "id": "ZWJ2Kd0F2GVw",
        "colab_type": "text"
      },
      "source": [
        "> You reach a validation accuracy of about 90%--much better than the small model trained from scratch in the previous section.\n",
        "\n",
        "> However, plots indicate overfitting almost from the start, despite using dropout. This is because this technique doesn't use data augmentation, which is essential for preventing overfitting with small image datasets."
      ]
    },
    {
      "cell_type": "markdown",
      "metadata": {
        "id": "SOy20tQF2GVw",
        "colab_type": "text"
      },
      "source": [
        "#### FEATURE EXTRACTION WITH DATA AUGMENTATION"
      ]
    },
    {
      "cell_type": "markdown",
      "metadata": {
        "id": "rSy5Fr2x2GVx",
        "colab_type": "text"
      },
      "source": [
        "#### Adding a densely connected classifier on top of the convolutional base"
      ]
    },
    {
      "cell_type": "code",
      "metadata": {
        "id": "MXlecUSJ2GVx",
        "colab_type": "code",
        "colab": {}
      },
      "source": [
        "from keras import models, layers"
      ],
      "execution_count": 0,
      "outputs": []
    },
    {
      "cell_type": "code",
      "metadata": {
        "id": "tK_vwb4v2GVz",
        "colab_type": "code",
        "colab": {}
      },
      "source": [
        "model = models.Sequential()\n",
        "\n",
        "model.add(conv_base)\n",
        "model.add(layers.Flatten())\n",
        "model.add(layers.Dense(256, activation = 'relu'))\n",
        "model.add(layers.Dense(1, activation = 'sigmoid'))"
      ],
      "execution_count": 0,
      "outputs": []
    },
    {
      "cell_type": "code",
      "metadata": {
        "id": "gKb9VLO02GV1",
        "colab_type": "code",
        "outputId": "799fefbe-4d0b-48ea-f948-59945296fad8",
        "colab": {
          "base_uri": "https://localhost:8080/",
          "height": 286
        }
      },
      "source": [
        "model.summary()"
      ],
      "execution_count": 20,
      "outputs": [
        {
          "output_type": "stream",
          "text": [
            "Model: \"sequential_2\"\n",
            "_________________________________________________________________\n",
            "Layer (type)                 Output Shape              Param #   \n",
            "=================================================================\n",
            "vgg16 (Model)                (None, 4, 4, 512)         14714688  \n",
            "_________________________________________________________________\n",
            "flatten_1 (Flatten)          (None, 8192)              0         \n",
            "_________________________________________________________________\n",
            "dense_3 (Dense)              (None, 256)               2097408   \n",
            "_________________________________________________________________\n",
            "dense_4 (Dense)              (None, 1)                 257       \n",
            "=================================================================\n",
            "Total params: 16,812,353\n",
            "Trainable params: 16,812,353\n",
            "Non-trainable params: 0\n",
            "_________________________________________________________________\n"
          ],
          "name": "stdout"
        }
      ]
    },
    {
      "cell_type": "markdown",
      "metadata": {
        "id": "lUXC3ust2GV5",
        "colab_type": "text"
      },
      "source": [
        "Before you compile and train the model, it's very important to freeze the convolutional base. *Freezing* a layer or set of layers means preventing their weights from being updated during training. If you don't do this, then the representations that were previously learned by the convolutional base will be modified during training, effectively destroying the representations previously learned."
      ]
    },
    {
      "cell_type": "code",
      "metadata": {
        "id": "FJQf-zLR2GV5",
        "colab_type": "code",
        "outputId": "95044ba8-0d8a-4b03-f304-47c5236817a6",
        "colab": {
          "base_uri": "https://localhost:8080/",
          "height": 50
        }
      },
      "source": [
        "print('This is the number of trainable weights ',\n",
        "      'before freezing the conv base:',\n",
        "      len(model.trainable_weights))\n",
        "conv_base.trainable = False\n",
        "print('This is the number of trainable weights ',\n",
        "      'after freezing the conv base:',\n",
        "      len(model.trainable_weights))"
      ],
      "execution_count": 21,
      "outputs": [
        {
          "output_type": "stream",
          "text": [
            "This is the number of trainable weights  before freezing the conv base: 30\n",
            "This is the number of trainable weights  after freezing the conv base: 4\n"
          ],
          "name": "stdout"
        }
      ]
    },
    {
      "cell_type": "markdown",
      "metadata": {
        "id": "f9MuBFKo2GV7",
        "colab_type": "text"
      },
      "source": [
        "Note that in order for these changes to take effect, you must first compile the model. If you ever modify weight trainability after compilation, you should then recompile the model, or these changes will be ignored."
      ]
    },
    {
      "cell_type": "markdown",
      "metadata": {
        "id": "yKi2b4F_2GV7",
        "colab_type": "text"
      },
      "source": [
        "#### Training the model end to end with a frozen convolutional base"
      ]
    },
    {
      "cell_type": "code",
      "metadata": {
        "id": "zbbRZtBY2GV8",
        "colab_type": "code",
        "colab": {}
      },
      "source": [
        "from keras.preprocessing.image import ImageDataGenerator\n",
        "from keras.applications.imagenet_utils import preprocess_input\n",
        "from keras import optimizers"
      ],
      "execution_count": 0,
      "outputs": []
    },
    {
      "cell_type": "code",
      "metadata": {
        "id": "IEZH5Noq2GV9",
        "colab_type": "code",
        "outputId": "8fdd93fb-519a-4e95-d6c2-326ca7df2127",
        "colab": {
          "base_uri": "https://localhost:8080/",
          "height": 50
        }
      },
      "source": [
        "train_datagen = ImageDataGenerator(\n",
        "     preprocessing_function = preprocess_input,\n",
        "     rotation_range = 40,\n",
        "     width_shift_range = 0.20,\n",
        "     height_shift_range = 0.20,\n",
        "     shear_range = 0.20,\n",
        "     zoom_range = 0.20,\n",
        "     horizontal_flip = True,\n",
        "     fill_mode = 'nearest')\n",
        "\n",
        "test_datagen = ImageDataGenerator(preprocessing_function = preprocess_input)\n",
        "\n",
        "train_generator = train_datagen.flow_from_directory(\n",
        "     train_dir,\n",
        "     target_size = (150,150),\n",
        "     batch_size = 20,\n",
        "     class_mode = 'binary')\n",
        "\n",
        "validation_generator = test_datagen.flow_from_directory(\n",
        "     validation_dir,\n",
        "     target_size = (150,150),\n",
        "     batch_size = 20,\n",
        "     class_mode = 'binary')\n",
        "\n",
        "model.compile(optimizer = optimizers.RMSprop(lr = 2e-5),\n",
        "              loss = 'binary_crossentropy',\n",
        "              metrics = ['acc'])"
      ],
      "execution_count": 23,
      "outputs": [
        {
          "output_type": "stream",
          "text": [
            "Found 2000 images belonging to 2 classes.\n",
            "Found 1000 images belonging to 2 classes.\n"
          ],
          "name": "stdout"
        }
      ]
    },
    {
      "cell_type": "code",
      "metadata": {
        "id": "oYrt6jw6Abbt",
        "colab_type": "code",
        "outputId": "360113de-28e5-44cc-954b-ca472bead2fd",
        "colab": {
          "base_uri": "https://localhost:8080/",
          "height": 689
        }
      },
      "source": [
        "history = model.fit_generator(\n",
        "     train_generator,\n",
        "     steps_per_epoch = 100,\n",
        "     epochs = 20,\n",
        "     validation_data = validation_generator,\n",
        "     validation_steps = 50,\n",
        "     verbose = 2)"
      ],
      "execution_count": 24,
      "outputs": [
        {
          "output_type": "stream",
          "text": [
            "Epoch 1/20\n",
            " - 23s - loss: 2.3001 - acc: 0.7695 - val_loss: 1.6487 - val_acc: 0.9090\n",
            "Epoch 2/20\n",
            " - 21s - loss: 1.1073 - acc: 0.8645 - val_loss: 4.3275e-06 - val_acc: 0.9300\n",
            "Epoch 3/20\n",
            " - 21s - loss: 0.8019 - acc: 0.9030 - val_loss: 0.1404 - val_acc: 0.9380\n",
            "Epoch 4/20\n",
            " - 21s - loss: 0.6003 - acc: 0.9170 - val_loss: 4.9801e-04 - val_acc: 0.9500\n",
            "Epoch 5/20\n",
            " - 21s - loss: 0.6213 - acc: 0.9180 - val_loss: 0.6497 - val_acc: 0.9490\n",
            "Epoch 6/20\n",
            " - 22s - loss: 0.4867 - acc: 0.9285 - val_loss: 0.2988 - val_acc: 0.9500\n",
            "Epoch 7/20\n",
            " - 22s - loss: 0.5981 - acc: 0.9330 - val_loss: 0.0700 - val_acc: 0.9520\n",
            "Epoch 8/20\n",
            " - 22s - loss: 0.4876 - acc: 0.9255 - val_loss: 2.8825e-09 - val_acc: 0.9550\n",
            "Epoch 9/20\n",
            " - 22s - loss: 0.4709 - acc: 0.9385 - val_loss: 1.0833 - val_acc: 0.9600\n",
            "Epoch 10/20\n",
            " - 22s - loss: 0.4224 - acc: 0.9335 - val_loss: 1.6337e-05 - val_acc: 0.9560\n",
            "Epoch 11/20\n",
            " - 22s - loss: 0.4647 - acc: 0.9365 - val_loss: 1.5461e-10 - val_acc: 0.9560\n",
            "Epoch 12/20\n",
            " - 22s - loss: 0.3453 - acc: 0.9445 - val_loss: 1.3297 - val_acc: 0.9590\n",
            "Epoch 13/20\n",
            " - 22s - loss: 0.3263 - acc: 0.9515 - val_loss: 0.0191 - val_acc: 0.9620\n",
            "Epoch 14/20\n",
            " - 22s - loss: 0.3205 - acc: 0.9480 - val_loss: 0.0417 - val_acc: 0.9570\n",
            "Epoch 15/20\n",
            " - 22s - loss: 0.3888 - acc: 0.9390 - val_loss: 2.7684e-04 - val_acc: 0.9630\n",
            "Epoch 16/20\n",
            " - 21s - loss: 0.3526 - acc: 0.9540 - val_loss: 3.4570e-08 - val_acc: 0.9600\n",
            "Epoch 17/20\n",
            " - 21s - loss: 0.3238 - acc: 0.9445 - val_loss: 1.2206 - val_acc: 0.9560\n",
            "Epoch 18/20\n",
            " - 21s - loss: 0.2731 - acc: 0.9465 - val_loss: 1.2320 - val_acc: 0.9600\n",
            "Epoch 19/20\n",
            " - 21s - loss: 0.3150 - acc: 0.9465 - val_loss: 1.2967e-04 - val_acc: 0.9600\n",
            "Epoch 20/20\n",
            " - 21s - loss: 0.2531 - acc: 0.9585 - val_loss: 0.5593 - val_acc: 0.9610\n"
          ],
          "name": "stdout"
        }
      ]
    },
    {
      "cell_type": "code",
      "metadata": {
        "id": "nKPfSnidH5sy",
        "colab_type": "code",
        "colab": {}
      },
      "source": [
        "model.save('cats_and_dogs_small_3.h5')"
      ],
      "execution_count": 0,
      "outputs": []
    },
    {
      "cell_type": "code",
      "metadata": {
        "id": "GsmOtQ-G38bB",
        "colab_type": "code",
        "colab": {}
      },
      "source": [
        "acc = history.history['acc']\n",
        "val_acc = history.history['val_acc']\n",
        "loss = history.history['loss']\n",
        "val_loss = history.history['val_loss']\n",
        "\n",
        "epochs = range(1, len(acc)+1)"
      ],
      "execution_count": 0,
      "outputs": []
    },
    {
      "cell_type": "code",
      "metadata": {
        "id": "q32Pa4085Ern",
        "colab_type": "code",
        "outputId": "015c9142-8285-4101-b783-c9a3ffad46e6",
        "colab": {
          "base_uri": "https://localhost:8080/",
          "height": 573
        }
      },
      "source": [
        "plt.plot(epochs, acc, 'r', label = 'Training acc')\n",
        "plt.plot(epochs, val_acc, 'b', label = 'Validation acc')\n",
        "plt.title('Training and validation accuracy')\n",
        "plt.xlabel('Epochs')\n",
        "plt.ylabel('Accuracy')\n",
        "plt.legend()\n",
        "plt.show()\n",
        "\n",
        "plt.figure()\n",
        "plt.plot(epochs, loss, 'r', label = 'Training loss')\n",
        "plt.plot(epochs, val_loss, 'b', label = 'Validation loss')\n",
        "plt.title('Training and validation loss')\n",
        "plt.xlabel('Epochs')\n",
        "plt.ylabel('Loss')\n",
        "plt.legend()\n",
        "plt.show()"
      ],
      "execution_count": 27,
      "outputs": [
        {
          "output_type": "display_data",
          "data": {
            "image/png": "[encoded data removed]",
            "text/plain": [
              "<Figure size 432x288 with 1 Axes>"
            ]
          },
          "metadata": {
            "tags": [],
            "needs_background": "light"
          }
        },
        {
          "output_type": "display_data",
          "data": {
            "image/png": "[encoded data removed]",
            "text/plain": [
              "<Figure size 432x288 with 1 Axes>"
            ]
          },
          "metadata": {
            "tags": [],
            "needs_background": "light"
          }
        }
      ]
    },
    {
      "cell_type": "markdown",
      "metadata": {
        "id": "Lcv99a0uz9vv",
        "colab_type": "text"
      },
      "source": [
        "> You reach a validation accuracy of about 96%. This is much better than what you achieved with the small convnet trained from scratch."
      ]
    },
    {
      "cell_type": "markdown",
      "metadata": {
        "id": "AXeTXQ6-8P6F",
        "colab_type": "text"
      },
      "source": [
        "### 5.3.2 Fine-tuning"
      ]
    },
    {
      "cell_type": "markdown",
      "metadata": {
        "id": "V1Ckt_0A8ry1",
        "colab_type": "text"
      },
      "source": [
        "*Fine-tuning* consists of unfreezing a few of the top layers  of a frozen model base used for feature extraction, and jointly training both the newly added part of the model and these top layers. This is called *fine-tuning* because it slightly adjusts the more abstract representations of the model being reused, in order to make them more relevant for the problem at hand."
      ]
    },
    {
      "cell_type": "markdown",
      "metadata": {
        "id": "-9jSFPBz9fzs",
        "colab_type": "text"
      },
      "source": [
        "The steps for fine-tuning a network are as follow:\n",
        "  1. Add your custom network on top of an already-trained base network.\n",
        "  2. Freeze the base network.\n",
        "  3. Train the part you added.\n",
        "  4. Unfreeze some layers in the base network.\n",
        "  5. Jointly train both these layers and the part you added."
      ]
    },
    {
      "cell_type": "code",
      "metadata": {
        "id": "9jN3tSoU8IqU",
        "colab_type": "code",
        "colab": {
          "base_uri": "https://localhost:8080/",
          "height": 790
        },
        "outputId": "6a6348b7-9b08-4159-be3e-9c77be26f543"
      },
      "source": [
        "conv_base.summary()"
      ],
      "execution_count": 28,
      "outputs": [
        {
          "output_type": "stream",
          "text": [
            "Model: \"vgg16\"\n",
            "_________________________________________________________________\n",
            "Layer (type)                 Output Shape              Param #   \n",
            "=================================================================\n",
            "input_1 (InputLayer)         (None, 150, 150, 3)       0         \n",
            "_________________________________________________________________\n",
            "block1_conv1 (Conv2D)        (None, 150, 150, 64)      1792      \n",
            "_________________________________________________________________\n",
            "block1_conv2 (Conv2D)        (None, 150, 150, 64)      36928     \n",
            "_________________________________________________________________\n",
            "block1_pool (MaxPooling2D)   (None, 75, 75, 64)        0         \n",
            "_________________________________________________________________\n",
            "block2_conv1 (Conv2D)        (None, 75, 75, 128)       73856     \n",
            "_________________________________________________________________\n",
            "block2_conv2 (Conv2D)        (None, 75, 75, 128)       147584    \n",
            "_________________________________________________________________\n",
            "block2_pool (MaxPooling2D)   (None, 37, 37, 128)       0         \n",
            "_________________________________________________________________\n",
            "block3_conv1 (Conv2D)        (None, 37, 37, 256)       295168    \n",
            "_________________________________________________________________\n",
            "block3_conv2 (Conv2D)        (None, 37, 37, 256)       590080    \n",
            "_________________________________________________________________\n",
            "block3_conv3 (Conv2D)        (None, 37, 37, 256)       590080    \n",
            "_________________________________________________________________\n",
            "block3_pool (MaxPooling2D)   (None, 18, 18, 256)       0         \n",
            "_________________________________________________________________\n",
            "block4_conv1 (Conv2D)        (None, 18, 18, 512)       1180160   \n",
            "_________________________________________________________________\n",
            "block4_conv2 (Conv2D)        (None, 18, 18, 512)       2359808   \n",
            "_________________________________________________________________\n",
            "block4_conv3 (Conv2D)        (None, 18, 18, 512)       2359808   \n",
            "_________________________________________________________________\n",
            "block4_pool (MaxPooling2D)   (None, 9, 9, 512)         0         \n",
            "_________________________________________________________________\n",
            "block5_conv1 (Conv2D)        (None, 9, 9, 512)         2359808   \n",
            "_________________________________________________________________\n",
            "block5_conv2 (Conv2D)        (None, 9, 9, 512)         2359808   \n",
            "_________________________________________________________________\n",
            "block5_conv3 (Conv2D)        (None, 9, 9, 512)         2359808   \n",
            "_________________________________________________________________\n",
            "block5_pool (MaxPooling2D)   (None, 4, 4, 512)         0         \n",
            "=================================================================\n",
            "Total params: 14,714,688\n",
            "Trainable params: 0\n",
            "Non-trainable params: 14,714,688\n",
            "_________________________________________________________________\n"
          ],
          "name": "stdout"
        }
      ]
    },
    {
      "cell_type": "markdown",
      "metadata": {
        "id": "fIIgnJiU-b24",
        "colab_type": "text"
      },
      "source": [
        "You'll fine-tune the last three convolutional layers, which means all layers up to **block4_pool** should be frozen.\n",
        "\n",
        "Why not fine-tune more layers? Why not fine-tune the entire convolutional base? You could. But you need to consider the following:\n",
        "  + Earlier layers encode more-generic, reusable features, whereas layers higher up encode more-specialized features. It's more useful to fine-tune the more specialized features, because these are the ones that need to be repurposed on the new problem.\n",
        "  + The more parameters you're training, the more you're at risk of overfitting."
      ]
    },
    {
      "cell_type": "markdown",
      "metadata": {
        "id": "8rlfJcRABJCK",
        "colab_type": "text"
      },
      "source": [
        "#### Freezing all layers up to a specific one"
      ]
    },
    {
      "cell_type": "code",
      "metadata": {
        "id": "5jVgTJ9J-GC-",
        "colab_type": "code",
        "colab": {}
      },
      "source": [
        "conv_base.trainable = True"
      ],
      "execution_count": 0,
      "outputs": []
    },
    {
      "cell_type": "code",
      "metadata": {
        "id": "RMYN25li-GL8",
        "colab_type": "code",
        "colab": {}
      },
      "source": [
        "set_trainable = False\n",
        "for layer in conv_base.layers:\n",
        "    if layer.name == 'block5_conv1':\n",
        "        set_trainable = True\n",
        "    if set_trainable:\n",
        "        layer.trainable = True\n",
        "    else:\n",
        "        layer.trainable = False"
      ],
      "execution_count": 0,
      "outputs": []
    },
    {
      "cell_type": "markdown",
      "metadata": {
        "id": "-bV9EFlsBnqp",
        "colab_type": "text"
      },
      "source": [
        "#### Fine-tuning the model"
      ]
    },
    {
      "cell_type": "code",
      "metadata": {
        "id": "yPAdgZxo-GPr",
        "colab_type": "code",
        "colab": {}
      },
      "source": [
        "model.compile(optimizer = optimizers.RMSprop(lr = 1e-5),\n",
        "              loss = 'binary_crossentropy',\n",
        "              metrics = ['acc'])"
      ],
      "execution_count": 0,
      "outputs": []
    },
    {
      "cell_type": "code",
      "metadata": {
        "id": "r2LMMi4Q-GTb",
        "colab_type": "code",
        "colab": {
          "base_uri": "https://localhost:8080/",
          "height": 1000
        },
        "outputId": "acb4ce3c-2976-4682-93ba-15d0c2904bde"
      },
      "source": [
        "history = model.fit_generator(\n",
        "     train_generator,\n",
        "     steps_per_epoch = 100,\n",
        "     epochs = 50,\n",
        "     validation_data = validation_generator,\n",
        "     validation_steps = 50)"
      ],
      "execution_count": 32,
      "outputs": [
        {
          "output_type": "stream",
          "text": [
            "Epoch 1/50\n",
            "100/100 [==============================] - 25s 253ms/step - loss: 0.2483 - acc: 0.9560 - val_loss: 7.3568e-07 - val_acc: 0.9590\n",
            "Epoch 2/50\n",
            "100/100 [==============================] - 23s 230ms/step - loss: 0.2855 - acc: 0.9490 - val_loss: 1.7240e-07 - val_acc: 0.9680\n",
            "Epoch 3/50\n",
            "100/100 [==============================] - 23s 231ms/step - loss: 0.2012 - acc: 0.9630 - val_loss: 1.8944 - val_acc: 0.9650\n",
            "Epoch 4/50\n",
            "100/100 [==============================] - 23s 230ms/step - loss: 0.2019 - acc: 0.9640 - val_loss: 0.4502 - val_acc: 0.9650\n",
            "Epoch 5/50\n",
            "100/100 [==============================] - 23s 233ms/step - loss: 0.1880 - acc: 0.9650 - val_loss: 0.2224 - val_acc: 0.9660\n",
            "Epoch 6/50\n",
            "100/100 [==============================] - 23s 232ms/step - loss: 0.1544 - acc: 0.9645 - val_loss: 1.2899 - val_acc: 0.9610\n",
            "Epoch 7/50\n",
            "100/100 [==============================] - 24s 236ms/step - loss: 0.1773 - acc: 0.9630 - val_loss: 2.3566 - val_acc: 0.9600\n",
            "Epoch 8/50\n",
            "100/100 [==============================] - 23s 232ms/step - loss: 0.1135 - acc: 0.9665 - val_loss: 3.1301e-08 - val_acc: 0.9600\n",
            "Epoch 9/50\n",
            "100/100 [==============================] - 23s 230ms/step - loss: 0.1427 - acc: 0.9710 - val_loss: 3.8271e-04 - val_acc: 0.9680\n",
            "Epoch 10/50\n",
            "100/100 [==============================] - 23s 226ms/step - loss: 0.1073 - acc: 0.9725 - val_loss: 0.0262 - val_acc: 0.9680\n",
            "Epoch 11/50\n",
            "100/100 [==============================] - 23s 230ms/step - loss: 0.1034 - acc: 0.9770 - val_loss: 1.0678e-08 - val_acc: 0.9630\n",
            "Epoch 12/50\n",
            "100/100 [==============================] - 23s 230ms/step - loss: 0.0736 - acc: 0.9755 - val_loss: 5.9237e-05 - val_acc: 0.9630\n",
            "Epoch 13/50\n",
            "100/100 [==============================] - 23s 228ms/step - loss: 0.1098 - acc: 0.9730 - val_loss: 1.7025 - val_acc: 0.9660\n",
            "Epoch 14/50\n",
            "100/100 [==============================] - 23s 231ms/step - loss: 0.0875 - acc: 0.9750 - val_loss: 0.3805 - val_acc: 0.9660\n",
            "Epoch 15/50\n",
            "100/100 [==============================] - 23s 226ms/step - loss: 0.0882 - acc: 0.9805 - val_loss: 0.0017 - val_acc: 0.9620\n",
            "Epoch 16/50\n",
            "100/100 [==============================] - 22s 222ms/step - loss: 0.0832 - acc: 0.9760 - val_loss: 2.8789e-04 - val_acc: 0.9660\n",
            "Epoch 17/50\n",
            "100/100 [==============================] - 23s 227ms/step - loss: 0.0759 - acc: 0.9805 - val_loss: 1.2268 - val_acc: 0.9670\n",
            "Epoch 18/50\n",
            "100/100 [==============================] - 22s 224ms/step - loss: 0.0970 - acc: 0.9785 - val_loss: 0.5078 - val_acc: 0.9640\n",
            "Epoch 19/50\n",
            "100/100 [==============================] - 22s 223ms/step - loss: 0.0957 - acc: 0.9785 - val_loss: 0.4900 - val_acc: 0.9690\n",
            "Epoch 20/50\n",
            "100/100 [==============================] - 22s 222ms/step - loss: 0.0472 - acc: 0.9850 - val_loss: 8.3976e-06 - val_acc: 0.9670\n",
            "Epoch 21/50\n",
            "100/100 [==============================] - 22s 225ms/step - loss: 0.0752 - acc: 0.9835 - val_loss: 3.8086e-06 - val_acc: 0.9700\n",
            "Epoch 22/50\n",
            "100/100 [==============================] - 22s 225ms/step - loss: 0.0715 - acc: 0.9825 - val_loss: 1.3868 - val_acc: 0.9690\n",
            "Epoch 23/50\n",
            "100/100 [==============================] - 22s 223ms/step - loss: 0.0654 - acc: 0.9825 - val_loss: 0.2154 - val_acc: 0.9680\n",
            "Epoch 24/50\n",
            "100/100 [==============================] - 23s 226ms/step - loss: 0.0333 - acc: 0.9875 - val_loss: 4.9315e-10 - val_acc: 0.9680\n",
            "Epoch 25/50\n",
            "100/100 [==============================] - 23s 232ms/step - loss: 0.0560 - acc: 0.9850 - val_loss: 1.7926e-07 - val_acc: 0.9770\n",
            "Epoch 26/50\n",
            "100/100 [==============================] - 23s 231ms/step - loss: 0.0589 - acc: 0.9850 - val_loss: 3.8100e-06 - val_acc: 0.9690\n",
            "Epoch 27/50\n",
            "100/100 [==============================] - 24s 235ms/step - loss: 0.0763 - acc: 0.9855 - val_loss: 0.2111 - val_acc: 0.9730\n",
            "Epoch 28/50\n",
            "100/100 [==============================] - 23s 231ms/step - loss: 0.0620 - acc: 0.9865 - val_loss: 0.1239 - val_acc: 0.9660\n",
            "Epoch 29/50\n",
            "100/100 [==============================] - 23s 226ms/step - loss: 0.0553 - acc: 0.9845 - val_loss: 0.0014 - val_acc: 0.9700\n",
            "Epoch 30/50\n",
            "100/100 [==============================] - 23s 228ms/step - loss: 0.0604 - acc: 0.9880 - val_loss: 1.3953e-10 - val_acc: 0.9700\n",
            "Epoch 31/50\n",
            "100/100 [==============================] - 23s 227ms/step - loss: 0.0406 - acc: 0.9870 - val_loss: 0.3109 - val_acc: 0.9690\n",
            "Epoch 32/50\n",
            "100/100 [==============================] - 22s 224ms/step - loss: 0.0424 - acc: 0.9880 - val_loss: 1.1569 - val_acc: 0.9670\n",
            "Epoch 33/50\n",
            "100/100 [==============================] - 23s 226ms/step - loss: 0.0441 - acc: 0.9895 - val_loss: 0.0340 - val_acc: 0.9660\n",
            "Epoch 34/50\n",
            "100/100 [==============================] - 22s 223ms/step - loss: 0.0550 - acc: 0.9860 - val_loss: 0.0264 - val_acc: 0.9600\n",
            "Epoch 35/50\n",
            "100/100 [==============================] - 23s 226ms/step - loss: 0.0461 - acc: 0.9895 - val_loss: 0.1419 - val_acc: 0.9660\n",
            "Epoch 36/50\n",
            "100/100 [==============================] - 23s 226ms/step - loss: 0.0420 - acc: 0.9905 - val_loss: 0.0017 - val_acc: 0.9670\n",
            "Epoch 37/50\n",
            "100/100 [==============================] - 23s 228ms/step - loss: 0.0334 - acc: 0.9920 - val_loss: 3.3752e-07 - val_acc: 0.9670\n",
            "Epoch 38/50\n",
            "100/100 [==============================] - 23s 226ms/step - loss: 0.0307 - acc: 0.9905 - val_loss: 7.8607e-08 - val_acc: 0.9660\n",
            "Epoch 39/50\n",
            "100/100 [==============================] - 23s 234ms/step - loss: 0.0503 - acc: 0.9885 - val_loss: 0.7540 - val_acc: 0.9620\n",
            "Epoch 40/50\n",
            "100/100 [==============================] - 23s 229ms/step - loss: 0.0557 - acc: 0.9875 - val_loss: 1.3645 - val_acc: 0.9700\n",
            "Epoch 41/50\n",
            "100/100 [==============================] - 23s 231ms/step - loss: 0.0391 - acc: 0.9890 - val_loss: 1.1883 - val_acc: 0.9680\n",
            "Epoch 42/50\n",
            "100/100 [==============================] - 23s 228ms/step - loss: 0.0432 - acc: 0.9905 - val_loss: 0.8345 - val_acc: 0.9690\n",
            "Epoch 43/50\n",
            "100/100 [==============================] - 23s 229ms/step - loss: 0.0401 - acc: 0.9920 - val_loss: 1.3004e-09 - val_acc: 0.9720\n",
            "Epoch 44/50\n",
            "100/100 [==============================] - 23s 230ms/step - loss: 0.0210 - acc: 0.9930 - val_loss: 1.5793 - val_acc: 0.9750\n",
            "Epoch 45/50\n",
            "100/100 [==============================] - 23s 233ms/step - loss: 0.0395 - acc: 0.9920 - val_loss: 0.0509 - val_acc: 0.9710\n",
            "Epoch 46/50\n",
            "100/100 [==============================] - 23s 233ms/step - loss: 0.0392 - acc: 0.9910 - val_loss: 3.4998e-07 - val_acc: 0.9720\n",
            "Epoch 47/50\n",
            "100/100 [==============================] - 23s 233ms/step - loss: 0.0317 - acc: 0.9930 - val_loss: 0.5991 - val_acc: 0.9690\n",
            "Epoch 48/50\n",
            "100/100 [==============================] - 23s 230ms/step - loss: 0.0335 - acc: 0.9910 - val_loss: 0.4291 - val_acc: 0.9730\n",
            "Epoch 49/50\n",
            "100/100 [==============================] - 23s 232ms/step - loss: 0.0431 - acc: 0.9905 - val_loss: 0.1430 - val_acc: 0.9710\n",
            "Epoch 50/50\n",
            "100/100 [==============================] - 23s 227ms/step - loss: 0.0352 - acc: 0.9900 - val_loss: 0.0091 - val_acc: 0.9740\n"
          ],
          "name": "stdout"
        }
      ]
    },
    {
      "cell_type": "code",
      "metadata": {
        "id": "RGNbWyff9grB",
        "colab_type": "code",
        "colab": {}
      },
      "source": [
        "model.save('cats_and_dogs_small_4.h5')"
      ],
      "execution_count": 0,
      "outputs": []
    },
    {
      "cell_type": "code",
      "metadata": {
        "id": "lrVDs9CH9gdq",
        "colab_type": "code",
        "colab": {}
      },
      "source": [
        "acc = history.history['acc']\n",
        "val_acc = history.history['val_acc']\n",
        "loss = history.history['loss']\n",
        "val_loss = history.history['val_loss']\n",
        "\n",
        "epochs = range(1, len(acc)+1)"
      ],
      "execution_count": 0,
      "outputs": []
    },
    {
      "cell_type": "code",
      "metadata": {
        "id": "7udbHM8z9gUo",
        "colab_type": "code",
        "colab": {
          "base_uri": "https://localhost:8080/",
          "height": 573
        },
        "outputId": "9afecacf-1fd7-4b63-807e-2da15c183e32"
      },
      "source": [
        "plt.plot(epochs, acc, 'r', label = 'Training acc')\n",
        "plt.plot(epochs, val_acc, 'b', label = 'Validation acc')\n",
        "plt.title('Training and validation accuracy')\n",
        "plt.xlabel('Epochs')\n",
        "plt.ylabel('Accuracy')\n",
        "plt.legend()\n",
        "plt.show()\n",
        "\n",
        "plt.figure()\n",
        "plt.plot(epochs, loss, 'r', label = 'Training loss')\n",
        "plt.plot(epochs, val_loss, 'b', label = 'Validation loss')\n",
        "plt.title('Training and validation loss')\n",
        "plt.xlabel('Epochs')\n",
        "plt.ylabel('Loss')\n",
        "plt.legend()\n",
        "plt.show()"
      ],
      "execution_count": 35,
      "outputs": [
        {
          "output_type": "display_data",
          "data": {
            "image/png": "[encoded data removed]",
            "text/plain": [
              "<Figure size 432x288 with 1 Axes>"
            ]
          },
          "metadata": {
            "tags": [],
            "needs_background": "light"
          }
        },
        {
          "output_type": "display_data",
          "data": {
            "image/png": "[encoded data removed]",
            "text/plain": [
              "<Figure size 432x288 with 1 Axes>"
            ]
          },
          "metadata": {
            "tags": [],
            "needs_background": "light"
          }
        }
      ]
    },
    {
      "cell_type": "markdown",
      "metadata": {
        "id": "nmJY9cAL0oC3",
        "colab_type": "text"
      },
      "source": [
        "> After fine tuning the model, the accuracy of the validation data reaches almost 98%. \n",
        "\n",
        "But the curves look noisy. To make them more readable, you can smooth them by replacing every loss and accuracy with exponential moving averages of these quantities."
      ]
    },
    {
      "cell_type": "markdown",
      "metadata": {
        "id": "1s5uDFda1Jfu",
        "colab_type": "text"
      },
      "source": [
        "#### Smoothing the plots"
      ]
    },
    {
      "cell_type": "code",
      "metadata": {
        "id": "pTaloqiiJsM5",
        "colab_type": "code",
        "colab": {}
      },
      "source": [
        "def smooth_curve(points, factor=0.8):\n",
        "    smoothed_points = []\n",
        "    for point in points:\n",
        "        if smoothed_points:\n",
        "            previous = smoothed_points[-1]\n",
        "            smoothed_points.append(previous*factor+point*(1-factor))\n",
        "        else:\n",
        "            smoothed_points.append(point)\n",
        "    return smoothed_points"
      ],
      "execution_count": 0,
      "outputs": []
    },
    {
      "cell_type": "code",
      "metadata": {
        "id": "X0L0Ah0WJsSN",
        "colab_type": "code",
        "colab": {
          "base_uri": "https://localhost:8080/",
          "height": 573
        },
        "outputId": "7ce89433-9e99-4b40-bea9-0a845ba4aa48"
      },
      "source": [
        "plt.plot(epochs, smooth_curve(acc), 'r', label='Smoothed training accuracy')\n",
        "plt.plot(epochs, smooth_curve(val_acc), 'b', label='Smoothed validation accuracy')\n",
        "plt.xlabel('Epochs')\n",
        "plt.ylabel('Accuracy')\n",
        "plt.legend()\n",
        "plt.title('Training and validation accuracy')\n",
        "plt.show()\n",
        "\n",
        "plt.figure()\n",
        "plt.plot(epochs, smooth_curve(loss), 'r', label='Smoothed training loss')\n",
        "plt.plot(epochs, smooth_curve(val_loss), 'b', label='Smoothed validation loss')\n",
        "plt.xlabel('Epochs')\n",
        "plt.ylabel('Loss')\n",
        "plt.title('Training and validation loss')\n",
        "plt.legend()\n",
        "plt.show()"
      ],
      "execution_count": 37,
      "outputs": [
        {
          "output_type": "display_data",
          "data": {
            "image/png": "[encoded data removed]",
            "text/plain": [
              "<Figure size 432x288 with 1 Axes>"
            ]
          },
          "metadata": {
            "tags": [],
            "needs_background": "light"
          }
        },
        {
          "output_type": "display_data",
          "data": {
            "image/png": "[encoded data removed]",
            "text/plain": [
              "<Figure size 432x288 with 1 Axes>"
            ]
          },
          "metadata": {
            "tags": [],
            "needs_background": "light"
          }
        }
      ]
    },
    {
      "cell_type": "markdown",
      "metadata": {
        "id": "cTCVN0tA5yHa",
        "colab_type": "text"
      },
      "source": [
        "> The validation curve now looks much cleaner."
      ]
    },
    {
      "cell_type": "code",
      "metadata": {
        "id": "Z4NE5V1VJsap",
        "colab_type": "code",
        "colab": {
          "base_uri": "https://localhost:8080/",
          "height": 34
        },
        "outputId": "8080073b-5f04-4dc6-8641-357fe4b56fe8"
      },
      "source": [
        "test_generator = test_datagen.flow_from_directory(\n",
        "         test_dir,\n",
        "         target_size=(150, 150),\n",
        "         batch_size=20,\n",
        "         class_mode='binary')"
      ],
      "execution_count": 38,
      "outputs": [
        {
          "output_type": "stream",
          "text": [
            "Found 1000 images belonging to 2 classes.\n"
          ],
          "name": "stdout"
        }
      ]
    },
    {
      "cell_type": "code",
      "metadata": {
        "id": "9AT7pXDfJseP",
        "colab_type": "code",
        "colab": {
          "base_uri": "https://localhost:8080/",
          "height": 34
        },
        "outputId": "9cb97ecb-cc59-4ab3-af99-5f3661ac1671"
      },
      "source": [
        "test_loss, test_acc = model.evaluate_generator(test_generator, steps=50)\n",
        "print('Test accuarcy:', test_acc)"
      ],
      "execution_count": 39,
      "outputs": [
        {
          "output_type": "stream",
          "text": [
            "Test accuarcy: 0.9660000205039978\n"
          ],
          "name": "stdout"
        }
      ]
    }
  ]
}