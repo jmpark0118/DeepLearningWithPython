{
  "nbformat": 4,
  "nbformat_minor": 0,
  "metadata": {
    "kernelspec": {
      "display_name": "Python 3",
      "language": "python",
      "name": "python3"
    },
    "language_info": {
      "codemirror_mode": {
        "name": "ipython",
        "version": 3
      },
      "file_extension": ".py",
      "mimetype": "text/x-python",
      "name": "python",
      "nbconvert_exporter": "python",
      "pygments_lexer": "ipython3",
      "version": "3.6.7"
    },
    "colab": {
      "name": "PART2_6.3_Advanced use of recurrent neural networks_1.ipynb",
      "provenance": [],
      "collapsed_sections": []
    },
    "accelerator": "GPU"
  },
  "cells": [
    {
      "cell_type": "markdown",
      "metadata": {
        "id": "U3ubGr153pgS",
        "colab_type": "text"
      },
      "source": [
        "# Chapter6 : Deep learning for text and sequences"
      ]
    },
    {
      "cell_type": "markdown",
      "metadata": {
        "id": "AB9oDXkU3pgX",
        "colab_type": "text"
      },
      "source": [
        "## 6.3 Advanced use of recurrent nerual networks"
      ]
    },
    {
      "cell_type": "markdown",
      "metadata": {
        "id": "W69cflqq3pgb",
        "colab_type": "text"
      },
      "source": [
        "In this section, we'll review three advanced techniques for improving the performance and generalization power of recurrent neural networks.\n",
        "\n",
        "We'll demonstrate all three concepts on a temperature-forecasting problem, where you have access to a timeseries of data points coming from sensors installed on the roof of a building, such as temperature, air pressure, and humidity, which you use to predict what the temerature will be 24 hours after the last data point.\n",
        "\n",
        "We will cover the following techniques:\n",
        "  + *Recurrent dropout*--This is a specific, built-in way to use dropout to fight overfitting in recurrent layers.\n",
        "  + *Stacking recurrent layers*--This increases the representational power of the network (at the cost of higher computational loads).\n",
        "  + *Bidirectional recurrent layers*--These present the same information to a recurrent network in different ways, increasing accuracy and mitigating forgetting issues."
      ]
    },
    {
      "cell_type": "markdown",
      "metadata": {
        "id": "kV_CnJtq3pgd",
        "colab_type": "text"
      },
      "source": [
        "### 6.3.1 A temperature-forecasting problem"
      ]
    },
    {
      "cell_type": "markdown",
      "metadata": {
        "id": "RXt0qtWl3pgg",
        "colab_type": "text"
      },
      "source": [
        "In this dataset, 14 different quantities were recorded every 10 minutes, over several years. This dataset is perfect for learning to work with numerical timeseries. You'll use it the build a model that takes as input some data from the recent past and predicts the air temperature 24 hours in the future."
      ]
    },
    {
      "cell_type": "markdown",
      "metadata": {
        "id": "KfyouQjC3pgj",
        "colab_type": "text"
      },
      "source": [
        "#### Inspecting the data of the Jena weather dataset"
      ]
    },
    {
      "cell_type": "code",
      "metadata": {
        "id": "NLaEHcv64rpc",
        "colab_type": "code",
        "outputId": "506f89d8-d6f3-4021-9b3e-a9ec21fb4ce6",
        "colab": {
          "base_uri": "https://localhost:8080/",
          "height": 121
        }
      },
      "source": [
        "from google.colab import drive\n",
        "drive.mount('/content/gdrive')"
      ],
      "execution_count": 3,
      "outputs": [
        {
          "output_type": "stream",
          "text": [
            "Go to this URL in a browser: https://accounts.google.com/o/oauth2/auth?client_id=947318989803-6bn6qk8qdgf4n4g3pfee6491hc0brc4i.apps.googleusercontent.com&redirect_uri=urn%3aietf%3awg%3aoauth%3a2.0%3aoob&response_type=code&scope=email%20https%3a%2f%2fwww.googleapis.com%2fauth%2fdocs.test%20https%3a%2f%2fwww.googleapis.com%2fauth%2fdrive%20https%3a%2f%2fwww.googleapis.com%2fauth%2fdrive.photos.readonly%20https%3a%2f%2fwww.googleapis.com%2fauth%2fpeopleapi.readonly\n",
            "\n",
            "Enter your authorization code:\n",
            "··········\n",
            "Mounted at /content/gdrive\n"
          ],
          "name": "stdout"
        }
      ]
    },
    {
      "cell_type": "code",
      "metadata": {
        "id": "CoYIkHGQ3pgm",
        "colab_type": "code",
        "outputId": "45ae4540-c125-4ae3-8a33-5b9b560790e4",
        "colab": {
          "base_uri": "https://localhost:8080/",
          "height": 71
        }
      },
      "source": [
        "import os\n",
        "data_dir = '/content/gdrive/My Drive/github/jena_climate'\n",
        "fname = os.path.join(data_dir, 'jena_climate_2009_2016.csv')\n",
        "\n",
        "f = open(fname)\n",
        "data = f.read()\n",
        "f.close()\n",
        "\n",
        "lines = data.split('\\n')\n",
        "header = lines[0].split(',')\n",
        "lines = lines[1:]\n",
        "\n",
        "print(header)\n",
        "print('Length of data:', len(lines))"
      ],
      "execution_count": 4,
      "outputs": [
        {
          "output_type": "stream",
          "text": [
            "['\"Date Time\"', '\"p (mbar)\"', '\"T (degC)\"', '\"Tpot (K)\"', '\"Tdew (degC)\"', '\"rh (%)\"', '\"VPmax (mbar)\"', '\"VPact (mbar)\"', '\"VPdef (mbar)\"', '\"sh (g/kg)\"', '\"H2OC (mmol/mol)\"', '\"rho (g/m**3)\"', '\"wv (m/s)\"', '\"max. wv (m/s)\"', '\"wd (deg)\"']\n",
            "Length of data: 420551\n"
          ],
          "name": "stdout"
        }
      ]
    },
    {
      "cell_type": "markdown",
      "metadata": {
        "id": "dMPa5Vuj3pg7",
        "colab_type": "text"
      },
      "source": [
        "#### Parsing the data"
      ]
    },
    {
      "cell_type": "code",
      "metadata": {
        "id": "PTjvAYNK3pg9",
        "colab_type": "code",
        "colab": {}
      },
      "source": [
        "import numpy as np\n",
        "float_data = np.zeros((len(lines), len(header)-1))\n",
        "for i, line in enumerate(lines):\n",
        "    values = [float(x) for x in line.split(',')[1:]]\n",
        "    float_data[i, :] = values"
      ],
      "execution_count": 0,
      "outputs": []
    },
    {
      "cell_type": "markdown",
      "metadata": {
        "id": "IUidhdvJ3phH",
        "colab_type": "text"
      },
      "source": [
        "#### Plotting the temperature timseries"
      ]
    },
    {
      "cell_type": "code",
      "metadata": {
        "id": "jTFpKxva3phK",
        "colab_type": "code",
        "outputId": "a8bf140b-95ed-41bd-d365-9e136a6788b7",
        "colab": {
          "base_uri": "https://localhost:8080/",
          "height": 268
        }
      },
      "source": [
        "import matplotlib.pyplot as plt\n",
        "temp = float_data[:, 1]\n",
        "plt.plot(range(len(temp)), temp)\n",
        "plt.show()"
      ],
      "execution_count": 6,
      "outputs": [
        {
          "output_type": "display_data",
          "data": {
            "image/png": "[encoded data removed]",
            "text/plain": [
              "<Figure size 432x288 with 1 Axes>"
            ]
          },
          "metadata": {
            "tags": [],
            "needs_background": "light"
          }
        }
      ]
    },
    {
      "cell_type": "markdown",
      "metadata": {
        "id": "ggyj1L9U3phV",
        "colab_type": "text"
      },
      "source": [
        "#### Plotting the first 10 days of the temperature timeseries"
      ]
    },
    {
      "cell_type": "markdown",
      "metadata": {
        "id": "xd4TX4pM3phX",
        "colab_type": "text"
      },
      "source": [
        "Here is a more narrow plot of the first 10 days of temperature data. Because the data is recorded every 10 minutes, you get 1440 data points per day."
      ]
    },
    {
      "cell_type": "code",
      "metadata": {
        "id": "OO5XpARM3phZ",
        "colab_type": "code",
        "outputId": "43bdf8b9-f9fc-44e7-a9ca-648658c0eac3",
        "colab": {
          "base_uri": "https://localhost:8080/",
          "height": 265
        }
      },
      "source": [
        "plt.plot(range(1440), temp[:1440])\n",
        "plt.show()"
      ],
      "execution_count": 7,
      "outputs": [
        {
          "output_type": "display_data",
          "data": {
            "image/png": "[encoded data removed]",
            "text/plain": [
              "<Figure size 432x288 with 1 Axes>"
            ]
          },
          "metadata": {
            "tags": [],
            "needs_background": "light"
          }
        }
      ]
    },
    {
      "cell_type": "markdown",
      "metadata": {
        "id": "GD0MwuwP3phk",
        "colab_type": "text"
      },
      "source": [
        "### 6.3.2 Preparing the data"
      ]
    },
    {
      "cell_type": "markdown",
      "metadata": {
        "id": "zBVYRZOa3phl",
        "colab_type": "text"
      },
      "source": [
        "The exact formulation of the problem will be as follows:\n",
        "  + **lookback = 720**--Observations will go back 5 days.\n",
        "  + **steps = 6**--Observations will be sampled at one data point per hour.\n",
        "  + **delay = 144**--Targets will be 24 hours in the future.\n",
        "\n",
        "To get started, you need to do two things:\n",
        "  + Preprocess the data to a format a neural network can ingest. Each timeseries in the data is on a different scale. You'll normalize each timeseries independently so that they all take small values on a similar scale.\n",
        "  + Write a Python generator that takes the current array of float data and yields batches of data from the recent past, along with a target temperature in the future"
      ]
    },
    {
      "cell_type": "markdown",
      "metadata": {
        "id": "12dDZVXd3phn",
        "colab_type": "text"
      },
      "source": [
        "* You're going to use the first 200,000 timestamps as training data, so compute the mean and standard deviation only on this fraction of the data."
      ]
    },
    {
      "cell_type": "markdown",
      "metadata": {
        "id": "ifK_XjSC3phq",
        "colab_type": "text"
      },
      "source": [
        "#### Normalizing the data"
      ]
    },
    {
      "cell_type": "code",
      "metadata": {
        "id": "5f-kJEzz3phu",
        "colab_type": "code",
        "colab": {}
      },
      "source": [
        "mean = float_data[:200000].mean(axis=0)\n",
        "float_data -= mean\n",
        "std = float_data[:200000].std(axis=0)\n",
        "float_data /= std"
      ],
      "execution_count": 0,
      "outputs": []
    },
    {
      "cell_type": "markdown",
      "metadata": {
        "id": "F1PozNnk3ph4",
        "colab_type": "text"
      },
      "source": [
        "The data generator takes the following arguments:\n",
        "  + `data`--The original array of floating-point data, which you normalized in the previous code.\n",
        "  + `lookback`--How many timestamps back the input data should go.\n",
        "  + `delay`--How many timestamps in the future the target should be.\n",
        "  + `min_index` and `max_index`--Indices in the *data* array that delimit which timesteps to draw from. This is useful for keeping a segment of the data for validation and another for testing.\n",
        "  + `shuffle`--Whether to shuffle the samples of draw them in chronological order.\n",
        "  + `step`--The period, in timestamps, at which you sample data. In this example, you'll set it to 6 in order to draw one data point every hour."
      ]
    },
    {
      "cell_type": "markdown",
      "metadata": {
        "id": "3zSfKjPh3ph6",
        "colab_type": "text"
      },
      "source": [
        "#### Generator yielding timeseries samples and their targets"
      ]
    },
    {
      "cell_type": "code",
      "metadata": {
        "id": "qL5Gqqaw3ph8",
        "colab_type": "code",
        "colab": {}
      },
      "source": [
        "def generator(data, lookback, delay, min_index, max_index,\n",
        "              shuffle=False, batch_size=128, step=6):\n",
        "    if max_index is None:\n",
        "        max_index = len(data) - delay - 1\n",
        "    i = min_index + lookback\n",
        "    while 1:\n",
        "        if shuffle:\n",
        "            rows = np.random.randint(\n",
        "                 min_index + lookback, max_index, size=batch_size)\n",
        "        else:\n",
        "            if i + batch_size >= max_index:\n",
        "                i = min_index + lookback\n",
        "            rows = np.arange(i, min(i + batch_size, max_index))\n",
        "            i += len(rows)\n",
        "        samples = np.zeros((len(rows), lookback // step, data.shape[-1]))\n",
        "        targets = np.zeros((len(rows),))\n",
        "        for j, row in enumerate(rows):\n",
        "            indices = range(rows[j] - lookback, rows[j], step)\n",
        "            samples[j] = data[indices]\n",
        "            targets[j] = data[rows[j] + delay][1]\n",
        "        yield samples, targets"
      ],
      "execution_count": 0,
      "outputs": []
    },
    {
      "cell_type": "markdown",
      "metadata": {
        "id": "yXtEiada3piG",
        "colab_type": "text"
      },
      "source": [
        "#### Preparing  the training, validation, and test generators"
      ]
    },
    {
      "cell_type": "code",
      "metadata": {
        "id": "G96H3Zxu3piI",
        "colab_type": "code",
        "colab": {}
      },
      "source": [
        "lookback = 720\n",
        "step = 6\n",
        "delay = 144\n",
        "batch_size = 128"
      ],
      "execution_count": 0,
      "outputs": []
    },
    {
      "cell_type": "code",
      "metadata": {
        "id": "urK1qCS83piU",
        "colab_type": "code",
        "colab": {}
      },
      "source": [
        "train_gen = generator(float_data,\n",
        "                      lookback=lookback,\n",
        "                      delay=delay,\n",
        "                      min_index=0,\n",
        "                      max_index=200000,\n",
        "                      shuffle=True,\n",
        "                      step=step,\n",
        "                      batch_size=batch_size)"
      ],
      "execution_count": 0,
      "outputs": []
    },
    {
      "cell_type": "code",
      "metadata": {
        "id": "i3bF9ARc3pif",
        "colab_type": "code",
        "colab": {}
      },
      "source": [
        "val_gen = generator(float_data,\n",
        "                    lookback=lookback,\n",
        "                    delay=delay,\n",
        "                    min_index=200001,\n",
        "                    max_index=300000,\n",
        "                    step=step,\n",
        "                    batch_size=batch_size)"
      ],
      "execution_count": 0,
      "outputs": []
    },
    {
      "cell_type": "code",
      "metadata": {
        "id": "suxMMTEd3pik",
        "colab_type": "code",
        "colab": {}
      },
      "source": [
        "test_gen = generator(float_data,\n",
        "                     lookback=lookback,\n",
        "                     delay=delay,\n",
        "                     min_index=300001,\n",
        "                     max_index=None,\n",
        "                     step=step,\n",
        "                     batch_size=batch_size)"
      ],
      "execution_count": 0,
      "outputs": []
    },
    {
      "cell_type": "code",
      "metadata": {
        "id": "xJKvO2NN3piq",
        "colab_type": "code",
        "outputId": "b79c12e6-59f9-4492-964a-d0efa19f0ba8",
        "colab": {
          "base_uri": "https://localhost:8080/",
          "height": 34
        }
      },
      "source": [
        "# how many steps to draw from val_gen in order to see the entire validation set\n",
        "val_steps = (300000 - 200001 - lookback) // batch_size\n",
        "val_steps"
      ],
      "execution_count": 14,
      "outputs": [
        {
          "output_type": "execute_result",
          "data": {
            "text/plain": [
              "775"
            ]
          },
          "metadata": {
            "tags": []
          },
          "execution_count": 14
        }
      ]
    },
    {
      "cell_type": "code",
      "metadata": {
        "id": "3wqLOfCW3piw",
        "colab_type": "code",
        "outputId": "910b8b12-7cac-41f1-90f5-f11a2a861f1b",
        "colab": {
          "base_uri": "https://localhost:8080/",
          "height": 34
        }
      },
      "source": [
        "# how many steps to draw from test_gen in order to see the entire test set\n",
        "test_steps = (len(float_data) - 300001 - lookback) // batch_size\n",
        "test_steps"
      ],
      "execution_count": 15,
      "outputs": [
        {
          "output_type": "execute_result",
          "data": {
            "text/plain": [
              "936"
            ]
          },
          "metadata": {
            "tags": []
          },
          "execution_count": 15
        }
      ]
    },
    {
      "cell_type": "markdown",
      "metadata": {
        "id": "cBuCN76Z3pi4",
        "colab_type": "text"
      },
      "source": [
        "### 6.3.3 A common-sense, non-machine-learning baseline"
      ]
    },
    {
      "cell_type": "markdown",
      "metadata": {
        "id": "hhxdvS5z3pi5",
        "colab_type": "text"
      },
      "source": [
        "A common-sense approach will serve as a sanity check, and it will establish a baseline that you'll have to beat in order to demonstrate the usefulness of more-advanced machine-learning models. Such common-sense baselines can be useful when you're approaching a new problem for which there is no known solution. However, you should keep in mind that such elementary baselines can prove surprisingly hard to beat."
      ]
    },
    {
      "cell_type": "markdown",
      "metadata": {
        "id": "E2ssZTWv3pi6",
        "colab_type": "text"
      },
      "source": [
        "In this case, the temperature can safely be assumed to be continuous as well as periodical with a daily period. Thus a common-sense approach is to always predict that the temperature 24 hours from now will be equal to the temperature right now."
      ]
    },
    {
      "cell_type": "markdown",
      "metadata": {
        "id": "_nZStp9C3pi7",
        "colab_type": "text"
      },
      "source": [
        "#### Computing the common-sense baseline MAE"
      ]
    },
    {
      "cell_type": "code",
      "metadata": {
        "id": "7E-LRPlJ3pi8",
        "colab_type": "code",
        "colab": {}
      },
      "source": [
        "def evaluate_naive_method():\n",
        "    batch_maes = []\n",
        "    for step in range(val_steps):\n",
        "        samples, targets = next(val_gen)\n",
        "        preds = samples[:, -1, 1]\n",
        "        mae = np.mean(np.abs(preds - targets))\n",
        "        batch_maes.append(mae)\n",
        "    print(np.mean(batch_maes))"
      ],
      "execution_count": 0,
      "outputs": []
    },
    {
      "cell_type": "code",
      "metadata": {
        "id": "X2OXz8fq3pjC",
        "colab_type": "code",
        "outputId": "5635b19b-ebd0-4811-cf7c-c53006430c4a",
        "colab": {
          "base_uri": "https://localhost:8080/",
          "height": 34
        }
      },
      "source": [
        "evaluate_naive_method()"
      ],
      "execution_count": 17,
      "outputs": [
        {
          "output_type": "stream",
          "text": [
            "0.2905218778760465\n"
          ],
          "name": "stdout"
        }
      ]
    },
    {
      "cell_type": "markdown",
      "metadata": {
        "id": "V5mHyB-E3pjI",
        "colab_type": "text"
      },
      "source": [
        "> This yields an MAE of 0.29. It translates to an average absolute error of 0.29×**temperature_std** degrees Celsius: 2.57℃."
      ]
    },
    {
      "cell_type": "markdown",
      "metadata": {
        "id": "he3u8v2c3pjI",
        "colab_type": "text"
      },
      "source": [
        "#### Converting the MAE back to a Celsius error"
      ]
    },
    {
      "cell_type": "code",
      "metadata": {
        "id": "mRLgXY4K3pjK",
        "colab_type": "code",
        "outputId": "55c49a76-2ad4-45bb-da0d-c71a9d994e47",
        "colab": {
          "base_uri": "https://localhost:8080/",
          "height": 34
        }
      },
      "source": [
        "celsius_mae = 0.29*std[1]\n",
        "celsius_mae"
      ],
      "execution_count": 18,
      "outputs": [
        {
          "output_type": "execute_result",
          "data": {
            "text/plain": [
              "2.5672247338393395"
            ]
          },
          "metadata": {
            "tags": []
          },
          "execution_count": 18
        }
      ]
    },
    {
      "cell_type": "markdown",
      "metadata": {
        "id": "blWdygaY3pjO",
        "colab_type": "text"
      },
      "source": [
        "### 6.3.4 A basic machine-learning approach"
      ]
    },
    {
      "cell_type": "markdown",
      "metadata": {
        "id": "yJhZBWMU3pjP",
        "colab_type": "text"
      },
      "source": [
        "In the same way that it's useful to establish a common-sense baseline before trying machine-learning approaches, it's useful to try simple, cheap machine-learning models before looking into complicated and computationally expensive models such as RNNs. This is the best way to make sure any further complexity you throw at the problem is legitimate and delivers real benefits.\n",
        "\n",
        "Because you evaluate on the exact same data and with the exact same metric you did with the common-sense approach, the results will be directly comparable."
      ]
    },
    {
      "cell_type": "markdown",
      "metadata": {
        "id": "ew4gsztL3pjQ",
        "colab_type": "text"
      },
      "source": [
        "#### Training and evaluating a densely connected model"
      ]
    },
    {
      "cell_type": "code",
      "metadata": {
        "id": "8KHFw8893pjR",
        "colab_type": "code",
        "outputId": "ab72461f-1437-433e-e984-db706f93acbf",
        "colab": {
          "base_uri": "https://localhost:8080/",
          "height": 34
        }
      },
      "source": [
        "from keras.models import Sequential\n",
        "from keras import layers\n",
        "from keras.optimizers import RMSprop"
      ],
      "execution_count": 19,
      "outputs": [
        {
          "output_type": "stream",
          "text": [
            "Using TensorFlow backend.\n"
          ],
          "name": "stderr"
        }
      ]
    },
    {
      "cell_type": "code",
      "metadata": {
        "id": "jPBDxxec3pjV",
        "colab_type": "code",
        "outputId": "ac6693c3-1420-4744-91b6-0ce2687a2074",
        "colab": {
          "base_uri": "https://localhost:8080/",
          "height": 692
        }
      },
      "source": [
        "model = Sequential()\n",
        "model.add(layers.Flatten(input_shape=(lookback // step, float_data.shape[-1])))\n",
        "model.add(layers.Dense(32, activation='relu'))\n",
        "model.add(layers.Dense(1))\n",
        "\n",
        "model.compile(optimizer=RMSprop(),\n",
        "              loss='mae')\n",
        "history = model.fit_generator(train_gen,\n",
        "                              steps_per_epoch=500,\n",
        "                              epochs=20,\n",
        "                              validation_data=val_gen,\n",
        "                              validation_steps=val_steps,\n",
        "                              verbose=2)"
      ],
      "execution_count": 20,
      "outputs": [
        {
          "output_type": "stream",
          "text": [
            "Epoch 1/20\n",
            " - 9s - loss: 0.7527 - val_loss: 0.2358\n",
            "Epoch 2/20\n",
            " - 7s - loss: 0.3329 - val_loss: 0.1692\n",
            "Epoch 3/20\n",
            " - 7s - loss: 0.2854 - val_loss: 0.3409\n",
            "Epoch 4/20\n",
            " - 7s - loss: 0.2695 - val_loss: 0.3827\n",
            "Epoch 5/20\n",
            " - 7s - loss: 0.2599 - val_loss: 0.3713\n",
            "Epoch 6/20\n",
            " - 7s - loss: 0.2517 - val_loss: 0.2825\n",
            "Epoch 7/20\n",
            " - 7s - loss: 0.2470 - val_loss: 0.2445\n",
            "Epoch 8/20\n",
            " - 7s - loss: 0.2442 - val_loss: 0.3055\n",
            "Epoch 9/20\n",
            " - 8s - loss: 0.2409 - val_loss: 0.2707\n",
            "Epoch 10/20\n",
            " - 7s - loss: 0.2384 - val_loss: 0.1974\n",
            "Epoch 11/20\n",
            " - 7s - loss: 0.2359 - val_loss: 0.3758\n",
            "Epoch 12/20\n",
            " - 7s - loss: 0.2332 - val_loss: 0.4404\n",
            "Epoch 13/20\n",
            " - 7s - loss: 0.2324 - val_loss: 0.3368\n",
            "Epoch 14/20\n",
            " - 7s - loss: 0.2286 - val_loss: 0.3813\n",
            "Epoch 15/20\n",
            " - 7s - loss: 0.2264 - val_loss: 0.2928\n",
            "Epoch 16/20\n",
            " - 7s - loss: 0.2266 - val_loss: 0.2565\n",
            "Epoch 17/20\n",
            " - 7s - loss: 0.2236 - val_loss: 0.2826\n",
            "Epoch 18/20\n",
            " - 7s - loss: 0.2204 - val_loss: 0.3423\n",
            "Epoch 19/20\n",
            " - 7s - loss: 0.2200 - val_loss: 0.3463\n",
            "Epoch 20/20\n",
            " - 7s - loss: 0.2177 - val_loss: 0.2381\n"
          ],
          "name": "stdout"
        }
      ]
    },
    {
      "cell_type": "markdown",
      "metadata": {
        "id": "frPnXydu3pja",
        "colab_type": "text"
      },
      "source": [
        "#### Plotting results"
      ]
    },
    {
      "cell_type": "code",
      "metadata": {
        "id": "vpHK14Fw3pjb",
        "colab_type": "code",
        "outputId": "9c97fedf-e83b-4574-fc78-50110e1842d5",
        "colab": {
          "base_uri": "https://localhost:8080/",
          "height": 295
        }
      },
      "source": [
        "import matplotlib.pyplot as plt\n",
        "loss = history.history['loss']\n",
        "val_loss = history.history['val_loss']\n",
        "\n",
        "epochs = range(1, len(loss)+1)\n",
        "\n",
        "plt.figure()\n",
        "plt.plot(epochs, loss, 'r', label='Training loss')\n",
        "plt.plot(epochs, val_loss, 'b', label='Validaiton loss')\n",
        "plt.plot([1, 21], [0.29, 0.29], 'g', linestyle='dashed', label='baseline')\n",
        "plt.title('Training and validation loss')\n",
        "plt.legend()\n",
        "plt.xlabel('Epochs')\n",
        "plt.ylabel('Loss')\n",
        "plt.show()"
      ],
      "execution_count": 21,
      "outputs": [
        {
          "output_type": "display_data",
          "data": {
            "image/png": "[encoded data removed]",
            "text/plain": [
              "<Figure size 432x288 with 1 Axes>"
            ]
          },
          "metadata": {
            "tags": [],
            "needs_background": "light"
          }
        }
      ]
    },
    {
      "cell_type": "markdown",
      "metadata": {
        "id": "2dr36akY3pjh",
        "colab_type": "text"
      },
      "source": [
        "> Some of the validation losses are close to the no-learning baseline, but not reliably. Your common sense contains a lot of valuable information that a machine-learning model doesn't have access to."
      ]
    },
    {
      "cell_type": "markdown",
      "metadata": {
        "id": "-qW8x_p53pji",
        "colab_type": "text"
      },
      "source": [
        "You may wonder, if a simple, well-performing model exists to go from the data to the targets, why doesn't the model you're training find it and improve on it?\n",
        "\n",
        "  + This is because this simple solution isn't what your training setup is looking for. **When you're looking for a solution with a space of complicated models, the simple, well-performing baseline may be unlearnable, even if it's technically part of the hypothesis space.** This is a pretty significant limitation of machine learning in general: *parameter learning can sometimes fail to find a simple solution to a simple problem*."
      ]
    },
    {
      "cell_type": "markdown",
      "metadata": {
        "id": "WdgJhA-Y3pjj",
        "colab_type": "text"
      },
      "source": [
        "### 6.3.5 A first recurrent baseline"
      ]
    },
    {
      "cell_type": "markdown",
      "metadata": {
        "id": "mGQc5Zyb3pjj",
        "colab_type": "text"
      },
      "source": [
        "The previous approach first flattened timeseries, which removed the notion of time from the input data. Instead, let's look at the data as what it is: a sequence, where causality and order matter.\n",
        "\n",
        "Also, instead of using the LSTM layer introduced in the previous section, you'll use the GRU layer. Gated recurrent unit (GRU) layers work using the same principle as LSTM, but they're somewhat streamlined and thus cheaper to run."
      ]
    },
    {
      "cell_type": "markdown",
      "metadata": {
        "id": "vhehV93x3pjk",
        "colab_type": "text"
      },
      "source": [
        "#### Training and evaluating a GRU-based model"
      ]
    },
    {
      "cell_type": "code",
      "metadata": {
        "id": "7_RjJAb43pjn",
        "colab_type": "code",
        "colab": {}
      },
      "source": [
        "from keras.models import Sequential\n",
        "from keras import layers\n",
        "from keras.optimizers import RMSprop"
      ],
      "execution_count": 0,
      "outputs": []
    },
    {
      "cell_type": "code",
      "metadata": {
        "id": "NKRAKZRF3pjq",
        "colab_type": "code",
        "outputId": "202cd658-8b24-4409-e147-929f67fb77e0",
        "colab": {
          "base_uri": "https://localhost:8080/",
          "height": 692
        }
      },
      "source": [
        "model = Sequential()\n",
        "model.add(layers.GRU(32, input_shape=(None, float_data.shape[-1])))\n",
        "model.add(layers.Dense(1))\n",
        "\n",
        "model.compile(optimizer=RMSprop(),\n",
        "              loss='mae')\n",
        "\n",
        "history = model.fit_generator(train_gen,\n",
        "                              steps_per_epoch=500,\n",
        "                              epochs=20,\n",
        "                              validation_data=val_gen,\n",
        "                              validation_steps=500,\n",
        "                              verbose=2)"
      ],
      "execution_count": 28,
      "outputs": [
        {
          "output_type": "stream",
          "text": [
            "Epoch 1/20\n",
            " - 130s - loss: 0.3058 - val_loss: 0.2675\n",
            "Epoch 2/20\n",
            " - 131s - loss: 0.2832 - val_loss: 0.1695\n",
            "Epoch 3/20\n",
            " - 130s - loss: 0.2784 - val_loss: 0.2150\n",
            "Epoch 4/20\n",
            " - 130s - loss: 0.2728 - val_loss: 0.1614\n",
            "Epoch 5/20\n",
            " - 130s - loss: 0.2687 - val_loss: 0.3367\n",
            "Epoch 6/20\n",
            " - 127s - loss: 0.2651 - val_loss: 0.4326\n",
            "Epoch 7/20\n",
            " - 129s - loss: 0.2594 - val_loss: 0.2875\n",
            "Epoch 8/20\n",
            " - 129s - loss: 0.2565 - val_loss: 0.1625\n",
            "Epoch 9/20\n",
            " - 128s - loss: 0.2526 - val_loss: 0.0800\n",
            "Epoch 10/20\n",
            " - 127s - loss: 0.2474 - val_loss: 0.3770\n",
            "Epoch 11/20\n",
            " - 130s - loss: 0.2452 - val_loss: 0.2834\n",
            "Epoch 12/20\n",
            " - 127s - loss: 0.2409 - val_loss: 0.1198\n",
            "Epoch 13/20\n",
            " - 128s - loss: 0.2376 - val_loss: 0.0674\n",
            "Epoch 14/20\n",
            " - 128s - loss: 0.2319 - val_loss: 0.1287\n",
            "Epoch 15/20\n",
            " - 128s - loss: 0.2304 - val_loss: 0.1747\n",
            "Epoch 16/20\n",
            " - 127s - loss: 0.2262 - val_loss: 0.4217\n",
            "Epoch 17/20\n",
            " - 128s - loss: 0.2229 - val_loss: 0.1511\n",
            "Epoch 18/20\n",
            " - 128s - loss: 0.2193 - val_loss: 0.3200\n",
            "Epoch 19/20\n",
            " - 130s - loss: 0.2155 - val_loss: 0.2885\n",
            "Epoch 20/20\n",
            " - 129s - loss: 0.2134 - val_loss: 0.1947\n"
          ],
          "name": "stdout"
        }
      ]
    },
    {
      "cell_type": "code",
      "metadata": {
        "id": "VYS2EhKy3pju",
        "colab_type": "code",
        "colab": {
          "base_uri": "https://localhost:8080/",
          "height": 295
        },
        "outputId": "0e626526-e2f1-4350-a498-d5b03fcdd04d"
      },
      "source": [
        "import matplotlib.pyplot as plt\n",
        "loss = history.history['loss']\n",
        "val_loss = history.history['val_loss']\n",
        "\n",
        "epochs = range(1, len(loss)+1)\n",
        "\n",
        "plt.figure()\n",
        "plt.plot(epochs, loss, 'r', label='Training loss')\n",
        "plt.plot(epochs, val_loss, 'b', label='Validaiton loss')\n",
        "plt.plot([1, 21], [0.29, 0.29], 'g', linestyle='dashed', label='baseline')\n",
        "plt.title('Training and validation loss')\n",
        "plt.legend()\n",
        "plt.xlabel('Epochs')\n",
        "plt.ylabel('Loss')\n",
        "plt.show()"
      ],
      "execution_count": 29,
      "outputs": [
        {
          "output_type": "display_data",
          "data": {
            "image/png": "[encoded data removed]",
            "text/plain": [
              "<Figure size 432x288 with 1 Axes>"
            ]
          },
          "metadata": {
            "tags": [],
            "needs_background": "light"
          }
        }
      ]
    },
    {
      "cell_type": "markdown",
      "metadata": {
        "id": "sRKACJ6H7kmL",
        "colab_type": "text"
      },
      "source": [
        "> Much better! You can significantly beat the common-sense baseline, demonstrating the value of machine learning as well as the superiority of recurrent networks compared to sequence-flattening dense networks on this type of task."
      ]
    },
    {
      "cell_type": "code",
      "metadata": {
        "id": "E3TSeHM00vIm",
        "colab_type": "code",
        "colab": {}
      },
      "source": [
        ""
      ],
      "execution_count": 0,
      "outputs": []
    }
  ]
}